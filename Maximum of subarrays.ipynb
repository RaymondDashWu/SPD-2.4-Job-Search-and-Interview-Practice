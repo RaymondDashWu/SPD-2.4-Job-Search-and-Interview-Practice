{
 "cells": [
  {
   "cell_type": "markdown",
   "metadata": {},
   "source": [
    "<img src=\"https://i.imgur.com/rXbH4A5.png\">\n",
    "Maximum of subarrays\n",
    "Python Data Structures Arrays\n",
    "Given an array and an integer A, find the maximum for each contiguous subarray of size A.\n",
    "\n",
    "Input: array = [1, 2, 3, 1, 4, 5, 2, 3, 6], A = 3\n",
    "    \n",
    "Output: 3 3 4 5 5 5 6\n",
    "Below is a more detailed walkthrough of what you should be trying to code, using the example above:\n",
    "\n",
    "subarray 1 = [1, 2, 3, 1, 4, 5, 2, 3, 6]\n",
    "maximum of subarray 1 = 3\n",
    "subarray 2 = [1, 2, 3, 1, 4, 5, 2, 3, 6]\n",
    "maximum of subarray 2 = 3\n",
    "subarray 3 = [1, 2, 3, 1, 4, 5, 2, 3, 6]\n",
    "maximum of subarray 3 = 4\n",
    "Etc."
   ]
  },
  {
   "cell_type": "code",
   "execution_count": 12,
   "metadata": {
    "ExecuteTime": {
     "end_time": "2020-05-19T23:57:20.487226Z",
     "start_time": "2020-05-19T23:57:20.481468Z"
    }
   },
   "outputs": [],
   "source": [
    "# PSEUDO BRAINSTORM\n",
    "# init stack that will be filled to A len\n",
    "# init output arr that will keep track of max subarr\n",
    "# fill stack to len(A)\n",
    "# once filled take max of stack\n",
    "# append to output\n",
    "# pop(0)\n",
    "\n",
    "def max_subarr(array, A):\n",
    "    stack = []\n",
    "    output = []\n",
    "    \n",
    "    if len(array) == 0:\n",
    "        return []\n",
    "    \n",
    "    for i in range(len(array)):\n",
    "        if len(stack) != A:\n",
    "            stack.append(array[i])\n",
    "        else:\n",
    "            output.append(max(stack))\n",
    "            stack.pop(0)\n",
    "            stack.append(array[i])\n",
    "    output.append(max(stack))\n",
    "    return output"
   ]
  },
  {
   "cell_type": "code",
   "execution_count": 18,
   "metadata": {
    "ExecuteTime": {
     "end_time": "2020-05-20T00:04:16.401663Z",
     "start_time": "2020-05-20T00:04:16.394554Z"
    }
   },
   "outputs": [],
   "source": [
    "array = [1, 2, 3, 1, 4, 5, 2, 3, 6] # Example case\n",
    "A = 3\n",
    "assert max_subarr(array, A) == [3, 3, 4, 5, 5, 5, 6]\n",
    "\n",
    "array = [] # Should return nothing\n",
    "A = 3\n",
    "assert max_subarr(array, A) == []\n",
    "\n",
    "array = [1, 2, 3, 1, 4, 5, 2, 3] # Even # of arr length, odd A\n",
    "A = 3\n",
    "assert max_subarr(array, A) == [3, 3, 4, 5, 5, 5]\n",
    "\n",
    "array = [1, 2, 3, 1, 4, 5, 2, 3] # Even # of arr length, even A\n",
    "A = 4\n",
    "assert max_subarr(array, A) == [3, 4, 5, 5, 5]\n",
    "\n",
    "array = [1, 2, 3, 1, 4, 5, 2, 3, 6] # Odd # of arr length, even A\n",
    "A = 4\n",
    "# assert max_subarr(array, A) == [3, 3, 4, 5, 5, 5]\n",
    "\n",
    "array = [1, 2, 3, 1, 4, 5, 2, 3, 6] # Should return all nums\n",
    "A = 1\n",
    "assert max_subarr(array, A) == [1, 2, 3, 1, 4, 5, 2, 3, 6]"
   ]
  },
  {
   "cell_type": "code",
   "execution_count": null,
   "metadata": {},
   "outputs": [],
   "source": []
  }
 ],
 "metadata": {
  "kernelspec": {
   "display_name": "Python 3",
   "language": "python",
   "name": "python3"
  },
  "language_info": {
   "codemirror_mode": {
    "name": "ipython",
    "version": 3
   },
   "file_extension": ".py",
   "mimetype": "text/x-python",
   "name": "python",
   "nbconvert_exporter": "python",
   "pygments_lexer": "ipython3",
   "version": "3.6.8"
  },
  "latex_envs": {
   "LaTeX_envs_menu_present": true,
   "autoclose": false,
   "autocomplete": true,
   "bibliofile": "biblio.bib",
   "cite_by": "apalike",
   "current_citInitial": 1,
   "eqLabelWithNumbers": true,
   "eqNumInitial": 1,
   "hotkeys": {
    "equation": "Ctrl-E",
    "itemize": "Ctrl-I"
   },
   "labels_anchors": false,
   "latex_user_defs": false,
   "report_style_numbering": false,
   "user_envs_cfg": false
  },
  "toc": {
   "base_numbering": 1,
   "nav_menu": {},
   "number_sections": true,
   "sideBar": true,
   "skip_h1_title": false,
   "title_cell": "Table of Contents",
   "title_sidebar": "Contents",
   "toc_cell": false,
   "toc_position": {},
   "toc_section_display": true,
   "toc_window_display": false
  }
 },
 "nbformat": 4,
 "nbformat_minor": 2
}
