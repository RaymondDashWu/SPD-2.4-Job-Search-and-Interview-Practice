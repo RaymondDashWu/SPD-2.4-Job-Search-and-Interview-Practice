{
 "cells": [
  {
   "cell_type": "markdown",
   "metadata": {},
   "source": [
    "<img src=\"https://i.imgur.com/czqBFBV.png\">\n",
    "\n",
    "Given the data table below, determine if there is a relationship between fitness level and smoking habits:\n",
    "\n",
    "\n",
    "|  | Low fitness level | Medium-low fitness level | Medium-high fitness level | High fitness level |\n",
    "|-------------|-----------|-------------|-------------|-------------|\n",
    "| Never smoked | 113 | 113 | 110 | 159 |\n",
    "| Former smokers | 119 |  135 | 172 | 190 |\n",
    "| 1 to 9 cigarettes | 77 |  91 | 86 | 65 |\n",
    "| >=10 cigarettes daily | 181 |  152 | 124 | 73 |\n",
    "\n",
    "You don't have to fully solve for the number here (that would be pretty time-intensive for an interview setting), but lay out the steps you would take to solve such a problem."
   ]
  },
  {
   "cell_type": "markdown",
   "metadata": {},
   "source": [
    "### Null hypothesis: There is NO relationship between fitness level and smoking\n",
    "### Alternate hypothesis: There IS a relationship between fitness level and smoking\n",
    "\n",
    "Assumptions\n",
    "- Significance (α) is .05 (5%)\n",
    "\n",
    "Followed this tutorial https://towardsdatascience.com/gentle-introduction-to-chi-square-test-for-independence-7182a7414a95\n",
    "\n"
   ]
  },
  {
   "cell_type": "code",
   "execution_count": 6,
   "metadata": {
    "ExecuteTime": {
     "end_time": "2020-06-01T00:42:07.235476Z",
     "start_time": "2020-06-01T00:42:07.224202Z"
    }
   },
   "outputs": [
    {
     "data": {
      "text/html": [
       "<div>\n",
       "<style scoped>\n",
       "    .dataframe tbody tr th:only-of-type {\n",
       "        vertical-align: middle;\n",
       "    }\n",
       "\n",
       "    .dataframe tbody tr th {\n",
       "        vertical-align: top;\n",
       "    }\n",
       "\n",
       "    .dataframe thead th {\n",
       "        text-align: right;\n",
       "    }\n",
       "</style>\n",
       "<table border=\"1\" class=\"dataframe\">\n",
       "  <thead>\n",
       "    <tr style=\"text-align: right;\">\n",
       "      <th></th>\n",
       "      <th>Never smoked</th>\n",
       "      <th>Former smokers</th>\n",
       "      <th>1 to 9 cigarettes</th>\n",
       "      <th>&gt;=10 cigarettes daily</th>\n",
       "    </tr>\n",
       "  </thead>\n",
       "  <tbody>\n",
       "    <tr>\n",
       "      <td>Low fitness level</td>\n",
       "      <td>113</td>\n",
       "      <td>113</td>\n",
       "      <td>110</td>\n",
       "      <td>159</td>\n",
       "    </tr>\n",
       "    <tr>\n",
       "      <td>Medium-low fitness level</td>\n",
       "      <td>119</td>\n",
       "      <td>135</td>\n",
       "      <td>172</td>\n",
       "      <td>190</td>\n",
       "    </tr>\n",
       "    <tr>\n",
       "      <td>Medium-high fitness level</td>\n",
       "      <td>77</td>\n",
       "      <td>91</td>\n",
       "      <td>86</td>\n",
       "      <td>65</td>\n",
       "    </tr>\n",
       "    <tr>\n",
       "      <td>High fitness level</td>\n",
       "      <td>181</td>\n",
       "      <td>152</td>\n",
       "      <td>124</td>\n",
       "      <td>73</td>\n",
       "    </tr>\n",
       "  </tbody>\n",
       "</table>\n",
       "</div>"
      ],
      "text/plain": [
       "                           Never smoked  Former smokers  1 to 9 cigarettes  \\\n",
       "Low fitness level                   113             113                110   \n",
       "Medium-low fitness level            119             135                172   \n",
       "Medium-high fitness level            77              91                 86   \n",
       "High fitness level                  181             152                124   \n",
       "\n",
       "                           >=10 cigarettes daily  \n",
       "Low fitness level                            159  \n",
       "Medium-low fitness level                     190  \n",
       "Medium-high fitness level                     65  \n",
       "High fitness level                            73  "
      ]
     },
     "execution_count": 6,
     "metadata": {},
     "output_type": "execute_result"
    }
   ],
   "source": [
    "import pandas as pd\n",
    "\n",
    "# Creating Pandas df\n",
    "df = pd.DataFrame(\n",
    "    [\n",
    "        [113,113,110,159],\n",
    "        [119,135,172,190],\n",
    "        [77,91,86,65],\n",
    "        [181,152,124,73]\n",
    "    ],\n",
    "    index=[\"Low fitness level\",\"Medium-low fitness level\", \"Medium-high fitness level\", \"High fitness level\"],\n",
    "    columns=[\"Never smoked\",\"Former smokers\", \"1 to 9 cigarettes\", \">=10 cigarettes daily\"])\n",
    "df\n",
    "\n"
   ]
  },
  {
   "cell_type": "code",
   "execution_count": 30,
   "metadata": {
    "ExecuteTime": {
     "end_time": "2020-06-01T01:47:01.346464Z",
     "start_time": "2020-06-01T01:47:01.341572Z"
    },
    "scrolled": true
   },
   "outputs": [
    {
     "data": {
      "text/plain": [
       "Never smoked             490\n",
       "Former smokers           491\n",
       "1 to 9 cigarettes        492\n",
       ">=10 cigarettes daily    487\n",
       "dtype: int64"
      ]
     },
     "execution_count": 30,
     "metadata": {},
     "output_type": "execute_result"
    }
   ],
   "source": [
    "# Check to see if we were given an even sample size across all groups. We weren't so we need to calculate expected value\n",
    "df.sum()"
   ]
  },
  {
   "cell_type": "markdown",
   "metadata": {},
   "source": [
    "\\begin{equation}\n",
    "\\text{Expected Value}=\\frac{(Row Total*ColumnTotal)}{TableTotal} \\\\\n",
    "\\end{equation}\n",
    "\n",
    "\\begin{equation}\n",
    "\\text{Expected Value}=\\frac{((113+113+110+159)*(113+119+77+181))}{(490+491+492+487)} \\\\\n",
    "\\end{equation}\n",
    "\n",
    "123.75<br>\n",
    "Repeat for all values in table\n"
   ]
  },
  {
   "cell_type": "code",
   "execution_count": 33,
   "metadata": {
    "ExecuteTime": {
     "end_time": "2020-06-01T01:50:19.536034Z",
     "start_time": "2020-06-01T01:50:19.531103Z"
    }
   },
   "outputs": [
    {
     "data": {
      "text/plain": [
       "(87.27274636300587,\n",
       " 5.7306646048374425e-15,\n",
       " 9,\n",
       " array([[123.75      , 124.00255102, 124.25510204, 122.99234694],\n",
       "        [154.        , 154.31428571, 154.62857143, 153.05714286],\n",
       "        [ 79.75      ,  79.9127551 ,  80.0755102 ,  79.26173469],\n",
       "        [132.5       , 132.77040816, 133.04081633, 131.68877551]]))"
      ]
     },
     "execution_count": 33,
     "metadata": {},
     "output_type": "execute_result"
    }
   ],
   "source": [
    "from scipy.stats import chi2_contingency\n",
    "\n",
    "chi2_contingency(df) # chi2_contingency(df)[3][0][0] shows the 123.75 calculated earlier"
   ]
  },
  {
   "cell_type": "code",
   "execution_count": 34,
   "metadata": {
    "ExecuteTime": {
     "end_time": "2020-06-01T01:53:20.271066Z",
     "start_time": "2020-06-01T01:53:20.266978Z"
    }
   },
   "outputs": [
    {
     "data": {
      "text/plain": [
       "87.27274636300587"
      ]
     },
     "execution_count": 34,
     "metadata": {},
     "output_type": "execute_result"
    }
   ],
   "source": [
    "chi2_contingency(df)[0] # This is the chi squared value"
   ]
  },
  {
   "cell_type": "markdown",
   "metadata": {},
   "source": [
    "\\begin{equation}\n",
    "\\chi^2=\\Sigma\\frac{(O-E)^2}{E} \\\\\n",
    "\\text{where O is the actual value and E is the expected value.}\n",
    "\\end{equation}"
   ]
  },
  {
   "cell_type": "code",
   "execution_count": 35,
   "metadata": {
    "ExecuteTime": {
     "end_time": "2020-06-01T01:53:50.794029Z",
     "start_time": "2020-06-01T01:53:50.788795Z"
    }
   },
   "outputs": [
    {
     "data": {
      "text/plain": [
       "5.7306646048374425e-15"
      ]
     },
     "execution_count": 35,
     "metadata": {},
     "output_type": "execute_result"
    }
   ],
   "source": [
    "chi2_contingency(df)[1] # This is the p-value"
   ]
  },
  {
   "cell_type": "markdown",
   "metadata": {},
   "source": [
    "\\begin{equation}\n",
    "\\text{Degrees of Freedom}=(NumRows - 1) * (NumColumns - 1) \\\\\n",
    "\\text{where O is the actual value and E is the expected value.}\n",
    "\\end{equation}"
   ]
  },
  {
   "cell_type": "code",
   "execution_count": 36,
   "metadata": {
    "ExecuteTime": {
     "end_time": "2020-06-01T02:05:52.238787Z",
     "start_time": "2020-06-01T02:05:52.234505Z"
    }
   },
   "outputs": [
    {
     "data": {
      "text/plain": [
       "9"
      ]
     },
     "execution_count": 36,
     "metadata": {},
     "output_type": "execute_result"
    }
   ],
   "source": [
    "chi2_contingency(df)[2] # This is degrees of freedom"
   ]
  },
  {
   "cell_type": "code",
   "execution_count": 50,
   "metadata": {
    "ExecuteTime": {
     "end_time": "2020-06-01T02:23:37.691185Z",
     "start_time": "2020-06-01T02:23:37.684549Z"
    }
   },
   "outputs": [
    {
     "name": "stdout",
     "output_type": "stream",
     "text": [
      "p-value is:  5.7306646048374425e-15\n",
      "chi=87.272746, critical value=16.918978\n",
      "\n",
      "At 0.05 level of significance, we reject the null hypotheses and accept the alternate hypothesis. \n",
      "There IS a relationship between smoking and fitness levels\n"
     ]
    }
   ],
   "source": [
    "from scipy.stats import chi2\n",
    "\n",
    "# Below code copied/pasted from https://towardsdatascience.com/gentle-introduction-to-chi-square-test-for-independence-7182a7414a95\n",
    "chi, pval, dof, exp = chi2_contingency(df)\n",
    "print('p-value is: ', pval)\n",
    "significance = 0.05\n",
    "p = 1 - significance\n",
    "critical_value = chi2.ppf(p, dof)\n",
    "print('chi=%.6f, critical value=%.6f\\n' % (chi, critical_value))\n",
    "if chi > critical_value:\n",
    "    print(\"\"\"At %.2f level of significance, we reject the null hypotheses and accept the alternate hypothesis. \n",
    "There IS a relationship between smoking and fitness levels\"\"\" % (significance))\n",
    "else:\n",
    "    print(\"\"\"At %.2f level of significance, we accept the null hypotheses. \n",
    "There is NO relationship between fitness level and smoking\"\"\" % (significance))"
   ]
  },
  {
   "cell_type": "code",
   "execution_count": null,
   "metadata": {},
   "outputs": [],
   "source": []
  }
 ],
 "metadata": {
  "kernelspec": {
   "display_name": "Python 3",
   "language": "python",
   "name": "python3"
  },
  "language_info": {
   "codemirror_mode": {
    "name": "ipython",
    "version": 3
   },
   "file_extension": ".py",
   "mimetype": "text/x-python",
   "name": "python",
   "nbconvert_exporter": "python",
   "pygments_lexer": "ipython3",
   "version": "3.6.8"
  },
  "latex_envs": {
   "LaTeX_envs_menu_present": true,
   "autoclose": false,
   "autocomplete": true,
   "bibliofile": "biblio.bib",
   "cite_by": "apalike",
   "current_citInitial": 1,
   "eqLabelWithNumbers": true,
   "eqNumInitial": 1,
   "hotkeys": {
    "equation": "Ctrl-E",
    "itemize": "Ctrl-I"
   },
   "labels_anchors": false,
   "latex_user_defs": false,
   "report_style_numbering": false,
   "user_envs_cfg": false
  },
  "toc": {
   "base_numbering": 1,
   "nav_menu": {},
   "number_sections": true,
   "sideBar": true,
   "skip_h1_title": false,
   "title_cell": "Table of Contents",
   "title_sidebar": "Contents",
   "toc_cell": false,
   "toc_position": {},
   "toc_section_display": true,
   "toc_window_display": false
  }
 },
 "nbformat": 4,
 "nbformat_minor": 2
}
