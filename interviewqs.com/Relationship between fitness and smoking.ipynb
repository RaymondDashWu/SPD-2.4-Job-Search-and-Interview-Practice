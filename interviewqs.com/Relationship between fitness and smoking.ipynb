{
 "cells": [
  {
   "cell_type": "markdown",
   "metadata": {},
   "source": [
    "<img src=\"https://i.imgur.com/czqBFBV.png\">\n",
    "\n",
    "Given the data table below, determine if there is a relationship between fitness level and smoking habits:\n",
    "\n",
    "\n",
    "|  | Low fitness level | Medium-low fitness level | Medium-high fitness level | High fitness level |\n",
    "|-------------|-----------|-------------|-------------|-------------|\n",
    "| Never smoked | 113 | 113 | 110 | 159 |\n",
    "| Former smokers | 119 |  135 | 172 | 190 |\n",
    "| 1 to 9 cigarettes | 77 |  91 | 86 | 65 |\n",
    "| >=10 cigarettes daily | 181 |  152 | 124 | 73 |\n",
    "\n",
    "You don't have to fully solve for the number here (that would be pretty time-intensive for an interview setting), but lay out the steps you would take to solve such a problem."
   ]
  },
  {
   "cell_type": "markdown",
   "metadata": {},
   "source": [
    "### Null hypothesis: There is NO relationship between fitness level and smoking\n",
    "### Alternate hypothesis: There IS a relationship between fitness level and smoking\n",
    "\n",
    "Assumptions\n",
    "- Significance (α) is .05 (5%)\n",
    "\n"
   ]
  },
  {
   "cell_type": "code",
   "execution_count": 6,
   "metadata": {
    "ExecuteTime": {
     "end_time": "2020-06-01T00:42:07.235476Z",
     "start_time": "2020-06-01T00:42:07.224202Z"
    }
   },
   "outputs": [
    {
     "data": {
      "text/html": [
       "<div>\n",
       "<style scoped>\n",
       "    .dataframe tbody tr th:only-of-type {\n",
       "        vertical-align: middle;\n",
       "    }\n",
       "\n",
       "    .dataframe tbody tr th {\n",
       "        vertical-align: top;\n",
       "    }\n",
       "\n",
       "    .dataframe thead th {\n",
       "        text-align: right;\n",
       "    }\n",
       "</style>\n",
       "<table border=\"1\" class=\"dataframe\">\n",
       "  <thead>\n",
       "    <tr style=\"text-align: right;\">\n",
       "      <th></th>\n",
       "      <th>Never smoked</th>\n",
       "      <th>Former smokers</th>\n",
       "      <th>1 to 9 cigarettes</th>\n",
       "      <th>&gt;=10 cigarettes daily</th>\n",
       "    </tr>\n",
       "  </thead>\n",
       "  <tbody>\n",
       "    <tr>\n",
       "      <td>Low fitness level</td>\n",
       "      <td>113</td>\n",
       "      <td>113</td>\n",
       "      <td>110</td>\n",
       "      <td>159</td>\n",
       "    </tr>\n",
       "    <tr>\n",
       "      <td>Medium-low fitness level</td>\n",
       "      <td>119</td>\n",
       "      <td>135</td>\n",
       "      <td>172</td>\n",
       "      <td>190</td>\n",
       "    </tr>\n",
       "    <tr>\n",
       "      <td>Medium-high fitness level</td>\n",
       "      <td>77</td>\n",
       "      <td>91</td>\n",
       "      <td>86</td>\n",
       "      <td>65</td>\n",
       "    </tr>\n",
       "    <tr>\n",
       "      <td>High fitness level</td>\n",
       "      <td>181</td>\n",
       "      <td>152</td>\n",
       "      <td>124</td>\n",
       "      <td>73</td>\n",
       "    </tr>\n",
       "  </tbody>\n",
       "</table>\n",
       "</div>"
      ],
      "text/plain": [
       "                           Never smoked  Former smokers  1 to 9 cigarettes  \\\n",
       "Low fitness level                   113             113                110   \n",
       "Medium-low fitness level            119             135                172   \n",
       "Medium-high fitness level            77              91                 86   \n",
       "High fitness level                  181             152                124   \n",
       "\n",
       "                           >=10 cigarettes daily  \n",
       "Low fitness level                            159  \n",
       "Medium-low fitness level                     190  \n",
       "Medium-high fitness level                     65  \n",
       "High fitness level                            73  "
      ]
     },
     "execution_count": 6,
     "metadata": {},
     "output_type": "execute_result"
    }
   ],
   "source": [
    "import pandas as pd\n",
    "\n",
    "# Creating Pandas df\n",
    "df = pd.DataFrame(\n",
    "    [\n",
    "        [113,113,110,159],\n",
    "        [119,135,172,190],\n",
    "        [77,91,86,65],\n",
    "        [181,152,124,73]\n",
    "    ],\n",
    "    index=[\"Low fitness level\",\"Medium-low fitness level\", \"Medium-high fitness level\", \"High fitness level\"],\n",
    "    columns=[\"Never smoked\",\"Former smokers\", \"1 to 9 cigarettes\", \">=10 cigarettes daily\"])\n",
    "df\n",
    "\n"
   ]
  },
  {
   "cell_type": "code",
   "execution_count": 13,
   "metadata": {
    "ExecuteTime": {
     "end_time": "2020-06-01T00:44:34.051739Z",
     "start_time": "2020-06-01T00:44:34.046128Z"
    }
   },
   "outputs": [
    {
     "data": {
      "text/plain": [
       "(490, 491, 492, 487)"
      ]
     },
     "execution_count": 13,
     "metadata": {},
     "output_type": "execute_result"
    }
   ],
   "source": [
    "# Check to see if we were given an even sample size across all groups. We weren't\n",
    "print(\"sum of Never smoked\",df['Never smoked'].sum())\n",
    "print(\"sum of Never smoked\",df['Never smoked'].sum())\n",
    "print(\"sum of Never smoked\",df['Never smoked'].sum())\n",
    "\n",
    "df['Former smokers'].sum(), df['1 to 9 cigarettes'].sum(), df['>=10 cigarettes daily'].sum()"
   ]
  },
  {
   "cell_type": "code",
   "execution_count": null,
   "metadata": {},
   "outputs": [],
   "source": []
  }
 ],
 "metadata": {
  "kernelspec": {
   "display_name": "Python 3",
   "language": "python",
   "name": "python3"
  },
  "language_info": {
   "codemirror_mode": {
    "name": "ipython",
    "version": 3
   },
   "file_extension": ".py",
   "mimetype": "text/x-python",
   "name": "python",
   "nbconvert_exporter": "python",
   "pygments_lexer": "ipython3",
   "version": "3.6.8"
  },
  "latex_envs": {
   "LaTeX_envs_menu_present": true,
   "autoclose": false,
   "autocomplete": true,
   "bibliofile": "biblio.bib",
   "cite_by": "apalike",
   "current_citInitial": 1,
   "eqLabelWithNumbers": true,
   "eqNumInitial": 1,
   "hotkeys": {
    "equation": "Ctrl-E",
    "itemize": "Ctrl-I"
   },
   "labels_anchors": false,
   "latex_user_defs": false,
   "report_style_numbering": false,
   "user_envs_cfg": false
  },
  "toc": {
   "base_numbering": 1,
   "nav_menu": {},
   "number_sections": true,
   "sideBar": true,
   "skip_h1_title": false,
   "title_cell": "Table of Contents",
   "title_sidebar": "Contents",
   "toc_cell": false,
   "toc_position": {},
   "toc_section_display": true,
   "toc_window_display": false
  }
 },
 "nbformat": 4,
 "nbformat_minor": 2
}
