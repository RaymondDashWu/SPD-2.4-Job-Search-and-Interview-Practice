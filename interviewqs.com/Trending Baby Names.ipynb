{
 "cells": [
  {
   "cell_type": "markdown",
   "metadata": {},
   "source": [
    "<img src=\"https://i.imgur.com/jDiLGFC.jpg\">\n",
    "You are given the following <a href=\"https://raw.githubusercontent.com/erood/interviewqs.com_code_snippets/master/Datasets/ddi_baby_names.csv\">dataset</a>, containing information on baby names from the <a href=\"https://www.ssa.gov/oact/babynames/\">U.S. Social Security Administration</a>.\n",
    "\n",
    "Using the dataset, write code to find the following:\n",
    "\n",
    "- Number of unique names across the dataset, split by both # of unique male/female names\n",
    "- Top 10 most popular male and female names, along with their associated counts\n",
    "- The top 10 most trending names (% growth) from 2010+, with an associated plot to show the relative growth between names\n",
    "<br>"
   ]
  },
  {
   "cell_type": "code",
   "execution_count": 2,
   "metadata": {
    "ExecuteTime": {
     "end_time": "2020-06-01T02:43:10.868062Z",
     "start_time": "2020-06-01T02:43:08.000311Z"
    },
    "scrolled": true
   },
   "outputs": [
    {
     "data": {
      "text/html": [
       "<div>\n",
       "<style scoped>\n",
       "    .dataframe tbody tr th:only-of-type {\n",
       "        vertical-align: middle;\n",
       "    }\n",
       "\n",
       "    .dataframe tbody tr th {\n",
       "        vertical-align: top;\n",
       "    }\n",
       "\n",
       "    .dataframe thead th {\n",
       "        text-align: right;\n",
       "    }\n",
       "</style>\n",
       "<table border=\"1\" class=\"dataframe\">\n",
       "  <thead>\n",
       "    <tr style=\"text-align: right;\">\n",
       "      <th></th>\n",
       "      <th>year</th>\n",
       "      <th>name</th>\n",
       "      <th>gender</th>\n",
       "      <th>count</th>\n",
       "    </tr>\n",
       "  </thead>\n",
       "  <tbody>\n",
       "    <tr>\n",
       "      <td>0</td>\n",
       "      <td>1880</td>\n",
       "      <td>Mary</td>\n",
       "      <td>F</td>\n",
       "      <td>7065</td>\n",
       "    </tr>\n",
       "    <tr>\n",
       "      <td>1</td>\n",
       "      <td>1880</td>\n",
       "      <td>Anna</td>\n",
       "      <td>F</td>\n",
       "      <td>2604</td>\n",
       "    </tr>\n",
       "    <tr>\n",
       "      <td>2</td>\n",
       "      <td>1880</td>\n",
       "      <td>Emma</td>\n",
       "      <td>F</td>\n",
       "      <td>2003</td>\n",
       "    </tr>\n",
       "    <tr>\n",
       "      <td>3</td>\n",
       "      <td>1880</td>\n",
       "      <td>Elizabeth</td>\n",
       "      <td>F</td>\n",
       "      <td>1939</td>\n",
       "    </tr>\n",
       "    <tr>\n",
       "      <td>4</td>\n",
       "      <td>1880</td>\n",
       "      <td>Minnie</td>\n",
       "      <td>F</td>\n",
       "      <td>1746</td>\n",
       "    </tr>\n",
       "  </tbody>\n",
       "</table>\n",
       "</div>"
      ],
      "text/plain": [
       "   year       name gender  count\n",
       "0  1880       Mary      F   7065\n",
       "1  1880       Anna      F   2604\n",
       "2  1880       Emma      F   2003\n",
       "3  1880  Elizabeth      F   1939\n",
       "4  1880     Minnie      F   1746"
      ]
     },
     "execution_count": 2,
     "metadata": {},
     "output_type": "execute_result"
    }
   ],
   "source": [
    "# Here is code to pull the dataset and relevant libraries \n",
    "# into a Google Colab or Jupyter notebook to help get you started\n",
    "import matplotlib.pyplot as plt\n",
    "import numpy as np\n",
    "import pandas as pd\n",
    "import seaborn as sns\n",
    "baby_names = pd.read_csv(\"https://raw.githubusercontent.com/erood/interviewqs.com_code_snippets/master/Datasets/ddi_baby_names.csv\")\n",
    "baby_names.head()"
   ]
  },
  {
   "cell_type": "markdown",
   "metadata": {},
   "source": [
    "## Number of unique names across the dataset, split by both # of unique male/female names"
   ]
  },
  {
   "cell_type": "code",
   "execution_count": 19,
   "metadata": {
    "ExecuteTime": {
     "end_time": "2020-06-01T02:54:30.998129Z",
     "start_time": "2020-06-01T02:54:29.831664Z"
    }
   },
   "outputs": [
    {
     "data": {
      "text/plain": [
       "41475"
      ]
     },
     "execution_count": 19,
     "metadata": {},
     "output_type": "execute_result"
    }
   ],
   "source": [
    "# Number of unique male names\n",
    "len(baby_names['name'].where(baby_names['gender'].str.contains('M')).dropna().unique())"
   ]
  },
  {
   "cell_type": "code",
   "execution_count": 32,
   "metadata": {
    "ExecuteTime": {
     "end_time": "2020-06-01T03:06:02.250586Z",
     "start_time": "2020-06-01T03:06:01.020757Z"
    }
   },
   "outputs": [
    {
     "data": {
      "text/plain": [
       "67698"
      ]
     },
     "execution_count": 32,
     "metadata": {},
     "output_type": "execute_result"
    }
   ],
   "source": [
    "# Number of unique female names\n",
    "len(baby_names['name'].where(baby_names['gender'].str.contains('F')).dropna().unique())"
   ]
  },
  {
   "cell_type": "markdown",
   "metadata": {},
   "source": [
    "## Top 10 most popular male and female names, along with their associated counts\n"
   ]
  },
  {
   "cell_type": "code",
   "execution_count": 34,
   "metadata": {
    "ExecuteTime": {
     "end_time": "2020-06-01T03:08:51.389250Z",
     "start_time": "2020-06-01T03:08:48.891891Z"
    },
    "scrolled": true
   },
   "outputs": [
    {
     "data": {
      "text/html": [
       "<div>\n",
       "<style scoped>\n",
       "    .dataframe tbody tr th:only-of-type {\n",
       "        vertical-align: middle;\n",
       "    }\n",
       "\n",
       "    .dataframe tbody tr th {\n",
       "        vertical-align: top;\n",
       "    }\n",
       "\n",
       "    .dataframe thead th {\n",
       "        text-align: right;\n",
       "    }\n",
       "</style>\n",
       "<table border=\"1\" class=\"dataframe\">\n",
       "  <thead>\n",
       "    <tr style=\"text-align: right;\">\n",
       "      <th></th>\n",
       "      <th>year</th>\n",
       "      <th>name</th>\n",
       "      <th>gender</th>\n",
       "      <th>count</th>\n",
       "    </tr>\n",
       "  </thead>\n",
       "  <tbody>\n",
       "    <tr>\n",
       "      <td>437169</td>\n",
       "      <td>1947.0</td>\n",
       "      <td>James</td>\n",
       "      <td>M</td>\n",
       "      <td>94757.0</td>\n",
       "    </tr>\n",
       "    <tr>\n",
       "      <td>544630</td>\n",
       "      <td>1957.0</td>\n",
       "      <td>Michael</td>\n",
       "      <td>M</td>\n",
       "      <td>92704.0</td>\n",
       "    </tr>\n",
       "    <tr>\n",
       "      <td>437170</td>\n",
       "      <td>1947.0</td>\n",
       "      <td>Robert</td>\n",
       "      <td>M</td>\n",
       "      <td>91640.0</td>\n",
       "    </tr>\n",
       "    <tr>\n",
       "      <td>533165</td>\n",
       "      <td>1956.0</td>\n",
       "      <td>Michael</td>\n",
       "      <td>M</td>\n",
       "      <td>90656.0</td>\n",
       "    </tr>\n",
       "    <tr>\n",
       "      <td>556204</td>\n",
       "      <td>1958.0</td>\n",
       "      <td>Michael</td>\n",
       "      <td>M</td>\n",
       "      <td>90517.0</td>\n",
       "    </tr>\n",
       "    <tr>\n",
       "      <td>447478</td>\n",
       "      <td>1948.0</td>\n",
       "      <td>James</td>\n",
       "      <td>M</td>\n",
       "      <td>88584.0</td>\n",
       "    </tr>\n",
       "    <tr>\n",
       "      <td>510812</td>\n",
       "      <td>1954.0</td>\n",
       "      <td>Michael</td>\n",
       "      <td>M</td>\n",
       "      <td>88528.0</td>\n",
       "    </tr>\n",
       "    <tr>\n",
       "      <td>521887</td>\n",
       "      <td>1955.0</td>\n",
       "      <td>Michael</td>\n",
       "      <td>M</td>\n",
       "      <td>88327.0</td>\n",
       "    </tr>\n",
       "    <tr>\n",
       "      <td>437171</td>\n",
       "      <td>1947.0</td>\n",
       "      <td>John</td>\n",
       "      <td>M</td>\n",
       "      <td>88319.0</td>\n",
       "    </tr>\n",
       "    <tr>\n",
       "      <td>427047</td>\n",
       "      <td>1946.0</td>\n",
       "      <td>James</td>\n",
       "      <td>M</td>\n",
       "      <td>87436.0</td>\n",
       "    </tr>\n",
       "  </tbody>\n",
       "</table>\n",
       "</div>"
      ],
      "text/plain": [
       "          year     name gender    count\n",
       "437169  1947.0    James      M  94757.0\n",
       "544630  1957.0  Michael      M  92704.0\n",
       "437170  1947.0   Robert      M  91640.0\n",
       "533165  1956.0  Michael      M  90656.0\n",
       "556204  1958.0  Michael      M  90517.0\n",
       "447478  1948.0    James      M  88584.0\n",
       "510812  1954.0  Michael      M  88528.0\n",
       "521887  1955.0  Michael      M  88327.0\n",
       "437171  1947.0     John      M  88319.0\n",
       "427047  1946.0    James      M  87436.0"
      ]
     },
     "execution_count": 34,
     "metadata": {},
     "output_type": "execute_result"
    }
   ],
   "source": [
    "# Initial attempt. Note that there are many of the same name\n",
    "baby_names.sort_values(by='count', ascending = False).where(baby_names['gender'].str.contains('M')).dropna().head(10)"
   ]
  },
  {
   "cell_type": "code",
   "execution_count": null,
   "metadata": {},
   "outputs": [],
   "source": [
    "baby_names.sort_values(by='count', ascending = False).where(baby_names['gender'].str.contains('M')).dropna().head(10)"
   ]
  },
  {
   "cell_type": "markdown",
   "metadata": {},
   "source": [
    "## The top 10 most trending names (% growth) from 2010+, with an associated plot to show the relative growth between names"
   ]
  },
  {
   "cell_type": "code",
   "execution_count": null,
   "metadata": {},
   "outputs": [],
   "source": []
  }
 ],
 "metadata": {
  "kernelspec": {
   "display_name": "Python 3",
   "language": "python",
   "name": "python3"
  },
  "language_info": {
   "codemirror_mode": {
    "name": "ipython",
    "version": 3
   },
   "file_extension": ".py",
   "mimetype": "text/x-python",
   "name": "python",
   "nbconvert_exporter": "python",
   "pygments_lexer": "ipython3",
   "version": "3.6.8"
  },
  "latex_envs": {
   "LaTeX_envs_menu_present": true,
   "autoclose": false,
   "autocomplete": true,
   "bibliofile": "biblio.bib",
   "cite_by": "apalike",
   "current_citInitial": 1,
   "eqLabelWithNumbers": true,
   "eqNumInitial": 1,
   "hotkeys": {
    "equation": "Ctrl-E",
    "itemize": "Ctrl-I"
   },
   "labels_anchors": false,
   "latex_user_defs": false,
   "report_style_numbering": false,
   "user_envs_cfg": false
  },
  "toc": {
   "base_numbering": 1,
   "nav_menu": {},
   "number_sections": true,
   "sideBar": true,
   "skip_h1_title": false,
   "title_cell": "Table of Contents",
   "title_sidebar": "Contents",
   "toc_cell": false,
   "toc_position": {},
   "toc_section_display": true,
   "toc_window_display": false
  }
 },
 "nbformat": 4,
 "nbformat_minor": 2
}
