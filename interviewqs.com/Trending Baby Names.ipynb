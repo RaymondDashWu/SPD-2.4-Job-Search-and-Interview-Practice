{
 "cells": [
  {
   "cell_type": "markdown",
   "metadata": {},
   "source": [
    "<img src=\"https://i.imgur.com/jDiLGFC.jpg\">\n",
    "You are given the following <a href=\"https://raw.githubusercontent.com/erood/interviewqs.com_code_snippets/master/Datasets/ddi_baby_names.csv\">dataset</a>, containing information on baby names from the <a href=\"https://www.ssa.gov/oact/babynames/\">U.S. Social Security Administration</a>.\n",
    "\n",
    "Using the dataset, write code to find the following:\n",
    "\n",
    "- Number of unique names across the dataset, split by both # of unique male/female names\n",
    "- Top 10 most popular male and female names, along with their associated counts\n",
    "- The top 10 most trending names (% growth) from 2010+, with an associated plot to show the relative growth between names\n",
    "<br>"
   ]
  },
  {
   "cell_type": "code",
   "execution_count": 2,
   "metadata": {
    "ExecuteTime": {
     "end_time": "2020-06-01T02:43:10.868062Z",
     "start_time": "2020-06-01T02:43:08.000311Z"
    },
    "scrolled": true
   },
   "outputs": [
    {
     "data": {
      "text/html": [
       "<div>\n",
       "<style scoped>\n",
       "    .dataframe tbody tr th:only-of-type {\n",
       "        vertical-align: middle;\n",
       "    }\n",
       "\n",
       "    .dataframe tbody tr th {\n",
       "        vertical-align: top;\n",
       "    }\n",
       "\n",
       "    .dataframe thead th {\n",
       "        text-align: right;\n",
       "    }\n",
       "</style>\n",
       "<table border=\"1\" class=\"dataframe\">\n",
       "  <thead>\n",
       "    <tr style=\"text-align: right;\">\n",
       "      <th></th>\n",
       "      <th>year</th>\n",
       "      <th>name</th>\n",
       "      <th>gender</th>\n",
       "      <th>count</th>\n",
       "    </tr>\n",
       "  </thead>\n",
       "  <tbody>\n",
       "    <tr>\n",
       "      <td>0</td>\n",
       "      <td>1880</td>\n",
       "      <td>Mary</td>\n",
       "      <td>F</td>\n",
       "      <td>7065</td>\n",
       "    </tr>\n",
       "    <tr>\n",
       "      <td>1</td>\n",
       "      <td>1880</td>\n",
       "      <td>Anna</td>\n",
       "      <td>F</td>\n",
       "      <td>2604</td>\n",
       "    </tr>\n",
       "    <tr>\n",
       "      <td>2</td>\n",
       "      <td>1880</td>\n",
       "      <td>Emma</td>\n",
       "      <td>F</td>\n",
       "      <td>2003</td>\n",
       "    </tr>\n",
       "    <tr>\n",
       "      <td>3</td>\n",
       "      <td>1880</td>\n",
       "      <td>Elizabeth</td>\n",
       "      <td>F</td>\n",
       "      <td>1939</td>\n",
       "    </tr>\n",
       "    <tr>\n",
       "      <td>4</td>\n",
       "      <td>1880</td>\n",
       "      <td>Minnie</td>\n",
       "      <td>F</td>\n",
       "      <td>1746</td>\n",
       "    </tr>\n",
       "  </tbody>\n",
       "</table>\n",
       "</div>"
      ],
      "text/plain": [
       "   year       name gender  count\n",
       "0  1880       Mary      F   7065\n",
       "1  1880       Anna      F   2604\n",
       "2  1880       Emma      F   2003\n",
       "3  1880  Elizabeth      F   1939\n",
       "4  1880     Minnie      F   1746"
      ]
     },
     "execution_count": 2,
     "metadata": {},
     "output_type": "execute_result"
    }
   ],
   "source": [
    "# Here is code to pull the dataset and relevant libraries \n",
    "# into a Google Colab or Jupyter notebook to help get you started\n",
    "import matplotlib.pyplot as plt\n",
    "import numpy as np\n",
    "import pandas as pd\n",
    "import seaborn as sns\n",
    "baby_names = pd.read_csv(\"https://raw.githubusercontent.com/erood/interviewqs.com_code_snippets/master/Datasets/ddi_baby_names.csv\")\n",
    "baby_names.head()"
   ]
  },
  {
   "cell_type": "markdown",
   "metadata": {},
   "source": [
    "## Number of unique names across the dataset, split by both # of unique male/female names"
   ]
  },
  {
   "cell_type": "code",
   "execution_count": 19,
   "metadata": {
    "ExecuteTime": {
     "end_time": "2020-06-01T02:54:30.998129Z",
     "start_time": "2020-06-01T02:54:29.831664Z"
    }
   },
   "outputs": [
    {
     "data": {
      "text/plain": [
       "41475"
      ]
     },
     "execution_count": 19,
     "metadata": {},
     "output_type": "execute_result"
    }
   ],
   "source": [
    "# Number of unique male names\n",
    "len(baby_names['name'].where(baby_names['gender'].str.contains('M')).dropna().unique())"
   ]
  },
  {
   "cell_type": "code",
   "execution_count": 32,
   "metadata": {
    "ExecuteTime": {
     "end_time": "2020-06-01T03:06:02.250586Z",
     "start_time": "2020-06-01T03:06:01.020757Z"
    }
   },
   "outputs": [
    {
     "data": {
      "text/plain": [
       "67698"
      ]
     },
     "execution_count": 32,
     "metadata": {},
     "output_type": "execute_result"
    }
   ],
   "source": [
    "# Number of unique female names\n",
    "len(baby_names['name'].where(baby_names['gender'].str.contains('F')).dropna().unique())"
   ]
  },
  {
   "cell_type": "markdown",
   "metadata": {},
   "source": [
    "## Top 10 most popular male and female names, along with their associated counts\n"
   ]
  },
  {
   "cell_type": "code",
   "execution_count": 34,
   "metadata": {
    "ExecuteTime": {
     "end_time": "2020-06-01T03:08:51.389250Z",
     "start_time": "2020-06-01T03:08:48.891891Z"
    },
    "scrolled": false
   },
   "outputs": [
    {
     "data": {
      "text/html": [
       "<div>\n",
       "<style scoped>\n",
       "    .dataframe tbody tr th:only-of-type {\n",
       "        vertical-align: middle;\n",
       "    }\n",
       "\n",
       "    .dataframe tbody tr th {\n",
       "        vertical-align: top;\n",
       "    }\n",
       "\n",
       "    .dataframe thead th {\n",
       "        text-align: right;\n",
       "    }\n",
       "</style>\n",
       "<table border=\"1\" class=\"dataframe\">\n",
       "  <thead>\n",
       "    <tr style=\"text-align: right;\">\n",
       "      <th></th>\n",
       "      <th>year</th>\n",
       "      <th>name</th>\n",
       "      <th>gender</th>\n",
       "      <th>count</th>\n",
       "    </tr>\n",
       "  </thead>\n",
       "  <tbody>\n",
       "    <tr>\n",
       "      <td>437169</td>\n",
       "      <td>1947.0</td>\n",
       "      <td>James</td>\n",
       "      <td>M</td>\n",
       "      <td>94757.0</td>\n",
       "    </tr>\n",
       "    <tr>\n",
       "      <td>544630</td>\n",
       "      <td>1957.0</td>\n",
       "      <td>Michael</td>\n",
       "      <td>M</td>\n",
       "      <td>92704.0</td>\n",
       "    </tr>\n",
       "    <tr>\n",
       "      <td>437170</td>\n",
       "      <td>1947.0</td>\n",
       "      <td>Robert</td>\n",
       "      <td>M</td>\n",
       "      <td>91640.0</td>\n",
       "    </tr>\n",
       "    <tr>\n",
       "      <td>533165</td>\n",
       "      <td>1956.0</td>\n",
       "      <td>Michael</td>\n",
       "      <td>M</td>\n",
       "      <td>90656.0</td>\n",
       "    </tr>\n",
       "    <tr>\n",
       "      <td>556204</td>\n",
       "      <td>1958.0</td>\n",
       "      <td>Michael</td>\n",
       "      <td>M</td>\n",
       "      <td>90517.0</td>\n",
       "    </tr>\n",
       "    <tr>\n",
       "      <td>447478</td>\n",
       "      <td>1948.0</td>\n",
       "      <td>James</td>\n",
       "      <td>M</td>\n",
       "      <td>88584.0</td>\n",
       "    </tr>\n",
       "    <tr>\n",
       "      <td>510812</td>\n",
       "      <td>1954.0</td>\n",
       "      <td>Michael</td>\n",
       "      <td>M</td>\n",
       "      <td>88528.0</td>\n",
       "    </tr>\n",
       "    <tr>\n",
       "      <td>521887</td>\n",
       "      <td>1955.0</td>\n",
       "      <td>Michael</td>\n",
       "      <td>M</td>\n",
       "      <td>88327.0</td>\n",
       "    </tr>\n",
       "    <tr>\n",
       "      <td>437171</td>\n",
       "      <td>1947.0</td>\n",
       "      <td>John</td>\n",
       "      <td>M</td>\n",
       "      <td>88319.0</td>\n",
       "    </tr>\n",
       "    <tr>\n",
       "      <td>427047</td>\n",
       "      <td>1946.0</td>\n",
       "      <td>James</td>\n",
       "      <td>M</td>\n",
       "      <td>87436.0</td>\n",
       "    </tr>\n",
       "  </tbody>\n",
       "</table>\n",
       "</div>"
      ],
      "text/plain": [
       "          year     name gender    count\n",
       "437169  1947.0    James      M  94757.0\n",
       "544630  1957.0  Michael      M  92704.0\n",
       "437170  1947.0   Robert      M  91640.0\n",
       "533165  1956.0  Michael      M  90656.0\n",
       "556204  1958.0  Michael      M  90517.0\n",
       "447478  1948.0    James      M  88584.0\n",
       "510812  1954.0  Michael      M  88528.0\n",
       "521887  1955.0  Michael      M  88327.0\n",
       "437171  1947.0     John      M  88319.0\n",
       "427047  1946.0    James      M  87436.0"
      ]
     },
     "execution_count": 34,
     "metadata": {},
     "output_type": "execute_result"
    }
   ],
   "source": [
    "# Initial attempt. Note that there are many of the same name but the year is different\n",
    "# I assume that I'm counting overall popularity since year was not specified in prompt\n",
    "baby_names.sort_values(by='count', ascending = False).where(baby_names['gender'].str.contains('M')).dropna().head(10)"
   ]
  },
  {
   "cell_type": "code",
   "execution_count": 66,
   "metadata": {
    "ExecuteTime": {
     "end_time": "2020-06-01T03:35:05.874375Z",
     "start_time": "2020-06-01T03:35:03.660954Z"
    }
   },
   "outputs": [
    {
     "data": {
      "text/html": [
       "<div>\n",
       "<style scoped>\n",
       "    .dataframe tbody tr th:only-of-type {\n",
       "        vertical-align: middle;\n",
       "    }\n",
       "\n",
       "    .dataframe tbody tr th {\n",
       "        vertical-align: top;\n",
       "    }\n",
       "\n",
       "    .dataframe thead th {\n",
       "        text-align: right;\n",
       "    }\n",
       "</style>\n",
       "<table border=\"1\" class=\"dataframe\">\n",
       "  <thead>\n",
       "    <tr style=\"text-align: right;\">\n",
       "      <th></th>\n",
       "      <th></th>\n",
       "      <th>count</th>\n",
       "    </tr>\n",
       "    <tr>\n",
       "      <th>name</th>\n",
       "      <th>gender</th>\n",
       "      <th></th>\n",
       "    </tr>\n",
       "  </thead>\n",
       "  <tbody>\n",
       "    <tr>\n",
       "      <td>James</td>\n",
       "      <td>M</td>\n",
       "      <td>5164280.0</td>\n",
       "    </tr>\n",
       "    <tr>\n",
       "      <td>John</td>\n",
       "      <td>M</td>\n",
       "      <td>5124817.0</td>\n",
       "    </tr>\n",
       "    <tr>\n",
       "      <td>Robert</td>\n",
       "      <td>M</td>\n",
       "      <td>4820129.0</td>\n",
       "    </tr>\n",
       "    <tr>\n",
       "      <td>Michael</td>\n",
       "      <td>M</td>\n",
       "      <td>4362731.0</td>\n",
       "    </tr>\n",
       "    <tr>\n",
       "      <td>William</td>\n",
       "      <td>M</td>\n",
       "      <td>4117369.0</td>\n",
       "    </tr>\n",
       "    <tr>\n",
       "      <td>David</td>\n",
       "      <td>M</td>\n",
       "      <td>3621322.0</td>\n",
       "    </tr>\n",
       "    <tr>\n",
       "      <td>Joseph</td>\n",
       "      <td>M</td>\n",
       "      <td>2613304.0</td>\n",
       "    </tr>\n",
       "    <tr>\n",
       "      <td>Richard</td>\n",
       "      <td>M</td>\n",
       "      <td>2565301.0</td>\n",
       "    </tr>\n",
       "    <tr>\n",
       "      <td>Charles</td>\n",
       "      <td>M</td>\n",
       "      <td>2392779.0</td>\n",
       "    </tr>\n",
       "    <tr>\n",
       "      <td>Thomas</td>\n",
       "      <td>M</td>\n",
       "      <td>2311849.0</td>\n",
       "    </tr>\n",
       "  </tbody>\n",
       "</table>\n",
       "</div>"
      ],
      "text/plain": [
       "                    count\n",
       "name    gender           \n",
       "James   M       5164280.0\n",
       "John    M       5124817.0\n",
       "Robert  M       4820129.0\n",
       "Michael M       4362731.0\n",
       "William M       4117369.0\n",
       "David   M       3621322.0\n",
       "Joseph  M       2613304.0\n",
       "Richard M       2565301.0\n",
       "Charles M       2392779.0\n",
       "Thomas  M       2311849.0"
      ]
     },
     "execution_count": 66,
     "metadata": {},
     "output_type": "execute_result"
    }
   ],
   "source": [
    "# Making new dataframe consisting of most popular names regardless of year\n",
    "# Top 10 most popular male names overall\n",
    "male_names = baby_names.where(baby_names['gender'].str.contains('M'))\n",
    "male_names.groupby(['name', 'gender']).agg({'count': 'sum'}).sort_values(by='count',ascending = False).head(10)"
   ]
  },
  {
   "cell_type": "code",
   "execution_count": 67,
   "metadata": {
    "ExecuteTime": {
     "end_time": "2020-06-01T03:35:43.786241Z",
     "start_time": "2020-06-01T03:35:41.415014Z"
    }
   },
   "outputs": [
    {
     "data": {
      "text/html": [
       "<div>\n",
       "<style scoped>\n",
       "    .dataframe tbody tr th:only-of-type {\n",
       "        vertical-align: middle;\n",
       "    }\n",
       "\n",
       "    .dataframe tbody tr th {\n",
       "        vertical-align: top;\n",
       "    }\n",
       "\n",
       "    .dataframe thead th {\n",
       "        text-align: right;\n",
       "    }\n",
       "</style>\n",
       "<table border=\"1\" class=\"dataframe\">\n",
       "  <thead>\n",
       "    <tr style=\"text-align: right;\">\n",
       "      <th></th>\n",
       "      <th></th>\n",
       "      <th>count</th>\n",
       "    </tr>\n",
       "    <tr>\n",
       "      <th>name</th>\n",
       "      <th>gender</th>\n",
       "      <th></th>\n",
       "    </tr>\n",
       "  </thead>\n",
       "  <tbody>\n",
       "    <tr>\n",
       "      <td>Mary</td>\n",
       "      <td>F</td>\n",
       "      <td>4125675.0</td>\n",
       "    </tr>\n",
       "    <tr>\n",
       "      <td>Elizabeth</td>\n",
       "      <td>F</td>\n",
       "      <td>1638349.0</td>\n",
       "    </tr>\n",
       "    <tr>\n",
       "      <td>Patricia</td>\n",
       "      <td>F</td>\n",
       "      <td>1572016.0</td>\n",
       "    </tr>\n",
       "    <tr>\n",
       "      <td>Jennifer</td>\n",
       "      <td>F</td>\n",
       "      <td>1467207.0</td>\n",
       "    </tr>\n",
       "    <tr>\n",
       "      <td>Linda</td>\n",
       "      <td>F</td>\n",
       "      <td>1452668.0</td>\n",
       "    </tr>\n",
       "    <tr>\n",
       "      <td>Barbara</td>\n",
       "      <td>F</td>\n",
       "      <td>1434397.0</td>\n",
       "    </tr>\n",
       "    <tr>\n",
       "      <td>Margaret</td>\n",
       "      <td>F</td>\n",
       "      <td>1248985.0</td>\n",
       "    </tr>\n",
       "    <tr>\n",
       "      <td>Susan</td>\n",
       "      <td>F</td>\n",
       "      <td>1121703.0</td>\n",
       "    </tr>\n",
       "    <tr>\n",
       "      <td>Dorothy</td>\n",
       "      <td>F</td>\n",
       "      <td>1107635.0</td>\n",
       "    </tr>\n",
       "    <tr>\n",
       "      <td>Sarah</td>\n",
       "      <td>F</td>\n",
       "      <td>1077746.0</td>\n",
       "    </tr>\n",
       "  </tbody>\n",
       "</table>\n",
       "</div>"
      ],
      "text/plain": [
       "                      count\n",
       "name      gender           \n",
       "Mary      F       4125675.0\n",
       "Elizabeth F       1638349.0\n",
       "Patricia  F       1572016.0\n",
       "Jennifer  F       1467207.0\n",
       "Linda     F       1452668.0\n",
       "Barbara   F       1434397.0\n",
       "Margaret  F       1248985.0\n",
       "Susan     F       1121703.0\n",
       "Dorothy   F       1107635.0\n",
       "Sarah     F       1077746.0"
      ]
     },
     "execution_count": 67,
     "metadata": {},
     "output_type": "execute_result"
    }
   ],
   "source": [
    "# Top 10 most popular female names overall\n",
    "female_names = baby_names.where(baby_names['gender'].str.contains('F'))\n",
    "female_names.groupby(['name', 'gender']).agg({'count': 'sum'}).sort_values(by='count',ascending = False).head(10)"
   ]
  },
  {
   "cell_type": "markdown",
   "metadata": {},
   "source": [
    "## The top 10 most trending names (% growth) from 2010+, with an associated plot to show the relative growth between names"
   ]
  },
  {
   "cell_type": "code",
   "execution_count": 68,
   "metadata": {
    "ExecuteTime": {
     "end_time": "2020-06-01T03:38:56.381140Z",
     "start_time": "2020-06-01T03:38:56.366186Z"
    }
   },
   "outputs": [
    {
     "data": {
      "text/plain": [
       "numpy.int64"
      ]
     },
     "execution_count": 68,
     "metadata": {},
     "output_type": "execute_result"
    }
   ],
   "source": [
    "# Checking type of year column to see if I have to convert baby names to int. Not needed\n",
    "type(baby_names['year'][0])"
   ]
  },
  {
   "cell_type": "code",
   "execution_count": 73,
   "metadata": {
    "ExecuteTime": {
     "end_time": "2020-06-01T03:41:54.916785Z",
     "start_time": "2020-06-01T03:41:54.884308Z"
    }
   },
   "outputs": [
    {
     "data": {
      "text/html": [
       "<div>\n",
       "<style scoped>\n",
       "    .dataframe tbody tr th:only-of-type {\n",
       "        vertical-align: middle;\n",
       "    }\n",
       "\n",
       "    .dataframe tbody tr th {\n",
       "        vertical-align: top;\n",
       "    }\n",
       "\n",
       "    .dataframe thead th {\n",
       "        text-align: right;\n",
       "    }\n",
       "</style>\n",
       "<table border=\"1\" class=\"dataframe\">\n",
       "  <thead>\n",
       "    <tr style=\"text-align: right;\">\n",
       "      <th></th>\n",
       "      <th>year</th>\n",
       "      <th>name</th>\n",
       "      <th>gender</th>\n",
       "      <th>count</th>\n",
       "    </tr>\n",
       "  </thead>\n",
       "  <tbody>\n",
       "    <tr>\n",
       "      <td>1658039</td>\n",
       "      <td>2010</td>\n",
       "      <td>Isabella</td>\n",
       "      <td>F</td>\n",
       "      <td>22913</td>\n",
       "    </tr>\n",
       "    <tr>\n",
       "      <td>1658040</td>\n",
       "      <td>2010</td>\n",
       "      <td>Sophia</td>\n",
       "      <td>F</td>\n",
       "      <td>20643</td>\n",
       "    </tr>\n",
       "    <tr>\n",
       "      <td>1658041</td>\n",
       "      <td>2010</td>\n",
       "      <td>Emma</td>\n",
       "      <td>F</td>\n",
       "      <td>17345</td>\n",
       "    </tr>\n",
       "    <tr>\n",
       "      <td>1658042</td>\n",
       "      <td>2010</td>\n",
       "      <td>Olivia</td>\n",
       "      <td>F</td>\n",
       "      <td>17028</td>\n",
       "    </tr>\n",
       "    <tr>\n",
       "      <td>1658043</td>\n",
       "      <td>2010</td>\n",
       "      <td>Ava</td>\n",
       "      <td>F</td>\n",
       "      <td>15433</td>\n",
       "    </tr>\n",
       "    <tr>\n",
       "      <td>...</td>\n",
       "      <td>...</td>\n",
       "      <td>...</td>\n",
       "      <td>...</td>\n",
       "      <td>...</td>\n",
       "    </tr>\n",
       "    <tr>\n",
       "      <td>1957041</td>\n",
       "      <td>2018</td>\n",
       "      <td>Zylas</td>\n",
       "      <td>M</td>\n",
       "      <td>5</td>\n",
       "    </tr>\n",
       "    <tr>\n",
       "      <td>1957042</td>\n",
       "      <td>2018</td>\n",
       "      <td>Zyran</td>\n",
       "      <td>M</td>\n",
       "      <td>5</td>\n",
       "    </tr>\n",
       "    <tr>\n",
       "      <td>1957043</td>\n",
       "      <td>2018</td>\n",
       "      <td>Zyrie</td>\n",
       "      <td>M</td>\n",
       "      <td>5</td>\n",
       "    </tr>\n",
       "    <tr>\n",
       "      <td>1957044</td>\n",
       "      <td>2018</td>\n",
       "      <td>Zyron</td>\n",
       "      <td>M</td>\n",
       "      <td>5</td>\n",
       "    </tr>\n",
       "    <tr>\n",
       "      <td>1957045</td>\n",
       "      <td>2018</td>\n",
       "      <td>Zzyzx</td>\n",
       "      <td>M</td>\n",
       "      <td>5</td>\n",
       "    </tr>\n",
       "  </tbody>\n",
       "</table>\n",
       "<p>299007 rows × 4 columns</p>\n",
       "</div>"
      ],
      "text/plain": [
       "         year      name gender  count\n",
       "1658039  2010  Isabella      F  22913\n",
       "1658040  2010    Sophia      F  20643\n",
       "1658041  2010      Emma      F  17345\n",
       "1658042  2010    Olivia      F  17028\n",
       "1658043  2010       Ava      F  15433\n",
       "...       ...       ...    ...    ...\n",
       "1957041  2018     Zylas      M      5\n",
       "1957042  2018     Zyran      M      5\n",
       "1957043  2018     Zyrie      M      5\n",
       "1957044  2018     Zyron      M      5\n",
       "1957045  2018     Zzyzx      M      5\n",
       "\n",
       "[299007 rows x 4 columns]"
      ]
     },
     "execution_count": 73,
     "metadata": {},
     "output_type": "execute_result"
    }
   ],
   "source": [
    "# Dropping all entries before 2010\n",
    "df_after_2010 = baby_names[baby_names['year'] >= 2010]\n",
    "df_after_2010"
   ]
  },
  {
   "cell_type": "code",
   "execution_count": 78,
   "metadata": {
    "ExecuteTime": {
     "end_time": "2020-06-01T07:36:08.869558Z",
     "start_time": "2020-06-01T07:36:08.831067Z"
    }
   },
   "outputs": [
    {
     "data": {
      "text/plain": [
       "2010"
      ]
     },
     "execution_count": 78,
     "metadata": {},
     "output_type": "execute_result"
    }
   ],
   "source": [
    "# Sanity check\n",
    "min(df_after_2010['year'])"
   ]
  },
  {
   "cell_type": "code",
   "execution_count": 85,
   "metadata": {
    "ExecuteTime": {
     "end_time": "2020-06-01T07:39:22.290071Z",
     "start_time": "2020-06-01T07:39:22.272009Z"
    }
   },
   "outputs": [
    {
     "data": {
      "text/html": [
       "<div>\n",
       "<style scoped>\n",
       "    .dataframe tbody tr th:only-of-type {\n",
       "        vertical-align: middle;\n",
       "    }\n",
       "\n",
       "    .dataframe tbody tr th {\n",
       "        vertical-align: top;\n",
       "    }\n",
       "\n",
       "    .dataframe thead th {\n",
       "        text-align: right;\n",
       "    }\n",
       "</style>\n",
       "<table border=\"1\" class=\"dataframe\">\n",
       "  <thead>\n",
       "    <tr style=\"text-align: right;\">\n",
       "      <th></th>\n",
       "      <th>year</th>\n",
       "      <th>name</th>\n",
       "      <th>gender</th>\n",
       "      <th>count</th>\n",
       "    </tr>\n",
       "  </thead>\n",
       "  <tbody>\n",
       "    <tr>\n",
       "      <td>1658039</td>\n",
       "      <td>2010</td>\n",
       "      <td>Isabella</td>\n",
       "      <td>F</td>\n",
       "      <td>22913</td>\n",
       "    </tr>\n",
       "    <tr>\n",
       "      <td>1677854</td>\n",
       "      <td>2010</td>\n",
       "      <td>Jacob</td>\n",
       "      <td>M</td>\n",
       "      <td>22127</td>\n",
       "    </tr>\n",
       "    <tr>\n",
       "      <td>1658040</td>\n",
       "      <td>2010</td>\n",
       "      <td>Sophia</td>\n",
       "      <td>F</td>\n",
       "      <td>20643</td>\n",
       "    </tr>\n",
       "    <tr>\n",
       "      <td>1677855</td>\n",
       "      <td>2010</td>\n",
       "      <td>Ethan</td>\n",
       "      <td>M</td>\n",
       "      <td>18002</td>\n",
       "    </tr>\n",
       "    <tr>\n",
       "      <td>1677856</td>\n",
       "      <td>2010</td>\n",
       "      <td>Michael</td>\n",
       "      <td>M</td>\n",
       "      <td>17350</td>\n",
       "    </tr>\n",
       "    <tr>\n",
       "      <td>1658041</td>\n",
       "      <td>2010</td>\n",
       "      <td>Emma</td>\n",
       "      <td>F</td>\n",
       "      <td>17345</td>\n",
       "    </tr>\n",
       "    <tr>\n",
       "      <td>1677857</td>\n",
       "      <td>2010</td>\n",
       "      <td>Jayden</td>\n",
       "      <td>M</td>\n",
       "      <td>17179</td>\n",
       "    </tr>\n",
       "    <tr>\n",
       "      <td>1677858</td>\n",
       "      <td>2010</td>\n",
       "      <td>William</td>\n",
       "      <td>M</td>\n",
       "      <td>17051</td>\n",
       "    </tr>\n",
       "    <tr>\n",
       "      <td>1658042</td>\n",
       "      <td>2010</td>\n",
       "      <td>Olivia</td>\n",
       "      <td>F</td>\n",
       "      <td>17028</td>\n",
       "    </tr>\n",
       "    <tr>\n",
       "      <td>1677859</td>\n",
       "      <td>2010</td>\n",
       "      <td>Alexander</td>\n",
       "      <td>M</td>\n",
       "      <td>16756</td>\n",
       "    </tr>\n",
       "  </tbody>\n",
       "</table>\n",
       "</div>"
      ],
      "text/plain": [
       "         year       name gender  count\n",
       "1658039  2010   Isabella      F  22913\n",
       "1677854  2010      Jacob      M  22127\n",
       "1658040  2010     Sophia      F  20643\n",
       "1677855  2010      Ethan      M  18002\n",
       "1677856  2010    Michael      M  17350\n",
       "1658041  2010       Emma      F  17345\n",
       "1677857  2010     Jayden      M  17179\n",
       "1677858  2010    William      M  17051\n",
       "1658042  2010     Olivia      F  17028\n",
       "1677859  2010  Alexander      M  16756"
      ]
     },
     "execution_count": 85,
     "metadata": {},
     "output_type": "execute_result"
    }
   ],
   "source": [
    "# I assume that this is asking to track the progress of the 10 most popular names in 2010 through to end year of dataset (2018)\n",
    "# Finding top 10 names in 2010\n",
    "df_after_2010.loc[df_after_2010['year'] == 2010].sort_values(by = 'count', ascending = False).head(10)\n"
   ]
  },
  {
   "cell_type": "code",
   "execution_count": 91,
   "metadata": {
    "ExecuteTime": {
     "end_time": "2020-06-01T07:48:59.139662Z",
     "start_time": "2020-06-01T07:48:59.136352Z"
    }
   },
   "outputs": [],
   "source": [
    "tracked_names = ['Isabella', 'Jacob', 'Sophia', 'Ethan', 'Michael', 'Emma', 'Jayden', 'William', 'Olivia', 'Alexander']\n"
   ]
  },
  {
   "cell_type": "code",
   "execution_count": 166,
   "metadata": {
    "ExecuteTime": {
     "end_time": "2020-06-01T09:42:22.600971Z",
     "start_time": "2020-06-01T09:42:19.339025Z"
    }
   },
   "outputs": [
    {
     "data": {
      "image/png": "[encoded data removed]",
      "text/plain": [
       "<Figure size 404.625x360 with 1 Axes>"
      ]
     },
     "metadata": {
      "needs_background": "light"
     },
     "output_type": "display_data"
    },
    {
     "data": {
      "image/png": "[encoded data removed]",
      "text/plain": [
       "<Figure size 404.625x360 with 1 Axes>"
      ]
     },
     "metadata": {
      "needs_background": "light"
     },
     "output_type": "display_data"
    },
    {
     "data": {
      "image/png": "[encoded data removed]",
      "text/plain": [
       "<Figure size 404.625x360 with 1 Axes>"
      ]
     },
     "metadata": {
      "needs_background": "light"
     },
     "output_type": "display_data"
    },
    {
     "data": {
      "image/png": "[encoded data removed]",
      "text/plain": [
       "<Figure size 404.625x360 with 1 Axes>"
      ]
     },
     "metadata": {
      "needs_background": "light"
     },
     "output_type": "display_data"
    },
    {
     "data": {
      "image/png": "[encoded data removed]",
      "text/plain": [
       "<Figure size 404.625x360 with 1 Axes>"
      ]
     },
     "metadata": {
      "needs_background": "light"
     },
     "output_type": "display_data"
    },
    {
     "data": {
      "image/png": "[encoded data removed]",
      "text/plain": [
       "<Figure size 404.625x360 with 1 Axes>"
      ]
     },
     "metadata": {
      "needs_background": "light"
     },
     "output_type": "display_data"
    },
    {
     "data": {
      "image/png": "[encoded data removed]",
      "text/plain": [
       "<Figure size 404.625x360 with 1 Axes>"
      ]
     },
     "metadata": {
      "needs_background": "light"
     },
     "output_type": "display_data"
    },
    {
     "data": {
      "image/png": "[encoded data removed]",
      "text/plain": [
       "<Figure size 404.625x360 with 1 Axes>"
      ]
     },
     "metadata": {
      "needs_background": "light"
     },
     "output_type": "display_data"
    },
    {
     "data": {
      "image/png": "[encoded data removed]",
      "text/plain": [
       "<Figure size 404.625x360 with 1 Axes>"
      ]
     },
     "metadata": {
      "needs_background": "light"
     },
     "output_type": "display_data"
    },
    {
     "data": {
      "image/png": "[encoded data removed]",
      "text/plain": [
       "<Figure size 404.625x360 with 1 Axes>"
      ]
     },
     "metadata": {
      "needs_background": "light"
     },
     "output_type": "display_data"
    }
   ],
   "source": [
    "# NOTE I separated gender because there were instances of males/females in each name despite the name being predominantly correlated with one gender. Possible data entry error?\n",
    "def plot_popular_names_over_time(name):\n",
    "    sorted_df = df_after_2010.loc[df_after_2010['name'] == name].sort_values(by = 'year') # Creates a new df containing only one name over time\n",
    "    sns.catplot(x='year', y='count', hue='gender', data=sorted_df, kind='bar').fig.suptitle('Popularity of the Name {}'.format(name)) # Creates end graph\n",
    "\n",
    "for name in tracked_names:\n",
    "    plot_popular_names_over_time(name)"
   ]
  },
  {
   "cell_type": "code",
   "execution_count": null,
   "metadata": {},
   "outputs": [],
   "source": []
  }
 ],
 "metadata": {
  "kernelspec": {
   "display_name": "Python 3",
   "language": "python",
   "name": "python3"
  },
  "language_info": {
   "codemirror_mode": {
    "name": "ipython",
    "version": 3
   },
   "file_extension": ".py",
   "mimetype": "text/x-python",
   "name": "python",
   "nbconvert_exporter": "python",
   "pygments_lexer": "ipython3",
   "version": "3.6.8"
  },
  "latex_envs": {
   "LaTeX_envs_menu_present": true,
   "autoclose": false,
   "autocomplete": true,
   "bibliofile": "biblio.bib",
   "cite_by": "apalike",
   "current_citInitial": 1,
   "eqLabelWithNumbers": true,
   "eqNumInitial": 1,
   "hotkeys": {
    "equation": "Ctrl-E",
    "itemize": "Ctrl-I"
   },
   "labels_anchors": false,
   "latex_user_defs": false,
   "report_style_numbering": false,
   "user_envs_cfg": false
  },
  "toc": {
   "base_numbering": 1,
   "nav_menu": {},
   "number_sections": true,
   "sideBar": true,
   "skip_h1_title": false,
   "title_cell": "Table of Contents",
   "title_sidebar": "Contents",
   "toc_cell": false,
   "toc_position": {},
   "toc_section_display": true,
   "toc_window_display": false
  }
 },
 "nbformat": 4,
 "nbformat_minor": 2
}
