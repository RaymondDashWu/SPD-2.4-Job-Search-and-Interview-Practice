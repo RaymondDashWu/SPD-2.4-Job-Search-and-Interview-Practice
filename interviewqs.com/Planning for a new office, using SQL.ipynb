{
 "cells": [
  {
   "cell_type": "markdown",
   "metadata": {},
   "source": [
    "<img src=\"https://i.imgur.com/bObSYN9.jpg\">\n",
    "\n",
    "TAGS: SQL, Database Querying, Union\n",
    "\n",
    "Suppose you work for a retail company and have access to two tables:\n",
    "\n",
    "\n",
    "__Customers:__\n",
    "\n",
    "| customer_id |   city   |\n",
    "|-------------|----------|\n",
    "| 0           |\tNew York\n",
    "| 1           |\tNew York\n",
    "| 2           |\tLos Angeles\n",
    "| 3\t          |Jacksonville\n",
    "\n",
    "__Suppliers:__\n",
    "\n",
    "| supplier_id | city |\n",
    "|-------------|------|\n",
    "| 0           |\tOmaha\n",
    "| 1           | New York\n",
    "| 2           | San Francisco\n",
    "| 3           | Los Angeles\n",
    "\n",
    "You've been tasked to find which cities have a strong overlap with both customers and suppliers, as your company explores opening an additional office. Using SQL, write a query to stack rank the frequency of the cities shown across both databases.\n",
    "\n",
    "Your query should return the following elements:\n",
    "\n",
    "- City\n",
    "- \\# of times city appeared across both tables"
   ]
  },
  {
   "cell_type": "code",
   "execution_count": null,
   "metadata": {},
   "outputs": [],
   "source": []
  }
 ],
 "metadata": {
  "kernelspec": {
   "display_name": "Python 3",
   "language": "python",
   "name": "python3"
  },
  "language_info": {
   "codemirror_mode": {
    "name": "ipython",
    "version": 3
   },
   "file_extension": ".py",
   "mimetype": "text/x-python",
   "name": "python",
   "nbconvert_exporter": "python",
   "pygments_lexer": "ipython3",
   "version": "3.6.8"
  },
  "latex_envs": {
   "LaTeX_envs_menu_present": true,
   "autoclose": false,
   "autocomplete": true,
   "bibliofile": "biblio.bib",
   "cite_by": "apalike",
   "current_citInitial": 1,
   "eqLabelWithNumbers": true,
   "eqNumInitial": 1,
   "hotkeys": {
    "equation": "Ctrl-E",
    "itemize": "Ctrl-I"
   },
   "labels_anchors": false,
   "latex_user_defs": false,
   "report_style_numbering": false,
   "user_envs_cfg": false
  },
  "toc": {
   "base_numbering": 1,
   "nav_menu": {},
   "number_sections": true,
   "sideBar": true,
   "skip_h1_title": false,
   "title_cell": "Table of Contents",
   "title_sidebar": "Contents",
   "toc_cell": false,
   "toc_position": {},
   "toc_section_display": true,
   "toc_window_display": false
  }
 },
 "nbformat": 4,
 "nbformat_minor": 2
}
