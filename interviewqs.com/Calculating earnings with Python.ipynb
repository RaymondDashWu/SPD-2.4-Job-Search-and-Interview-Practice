{
 "cells": [
  {
   "cell_type": "markdown",
   "metadata": {},
   "source": [
    "<img src=\"https://i.imgur.com/syFQkEx.png\">\n",
    "\n",
    "TAGS: Python, Algorithms\n",
    "    \n",
    "Suppose an individual is taxed 30% if earnings for a given week are > = $2,000. If earnings land < $2,000 for the week, the individual is taxed at a lower rate of 15%.\n",
    "\n",
    "Write a function using Python to calculate both the pre-tax and post-tax earnings for a given individual, with the ability to feed in the hourly wage and the weekly hours as inputs.\n",
    "\n",
    "For example, if an individual earns $55/hour and works for 40 hours, the function should return:\n",
    "\n",
    "Pre-tax earnings were 55*40 = $2,200 for the week.\n",
    "Post-tax earnings were $2,200*.7 (since we fall in higher tax bracket here) = $1,540 for the week\n",
    "\n",
    "Solution will be provided in Python to premium users."
   ]
  },
  {
   "cell_type": "code",
   "execution_count": 1,
   "metadata": {
    "ExecuteTime": {
     "end_time": "2020-06-23T18:21:21.130128Z",
     "start_time": "2020-06-23T18:21:21.125003Z"
    }
   },
   "outputs": [
    {
     "name": "stdout",
     "output_type": "stream",
     "text": [
      "$1540.0\n"
     ]
    }
   ],
   "source": [
    "# PSEUDO BRAINSTORM\n",
    "# function will take in hourly_wage and hours_worked\n",
    "# one function for calculating pre_tax_earnings\n",
    "# if that result >= 2000, apply tax_rate\n",
    "\n",
    "def calculate_pre_tax_earnings(hourly_wage, hours_worked):\n",
    "    return hourly_wage * hours_worked\n",
    "\n",
    "def calculate_post_tax_earnings(hourly_wage, hours_worked):\n",
    "    pre_tax = calculate_pre_tax_earnings(hourly_wage, hours_worked)\n",
    "    if pre_tax >= 2000:\n",
    "        return pre_tax * .7 # .7 is given tax_rate. Would make this a variable if it were an actual problem. Also, tax_rate is only applied to the amount above the threshold IRL for US taxes. IE Only amount above $2000 should be taxed\n",
    "    return pre_tax\n",
    "\n",
    "\n",
    "print(\"$\" + str(calculate_post_tax_earnings(55, 40)))\n"
   ]
  },
  {
   "cell_type": "code",
   "execution_count": null,
   "metadata": {},
   "outputs": [],
   "source": []
  }
 ],
 "metadata": {
  "kernelspec": {
   "display_name": "Python 3",
   "language": "python",
   "name": "python3"
  },
  "language_info": {
   "codemirror_mode": {
    "name": "ipython",
    "version": 3
   },
   "file_extension": ".py",
   "mimetype": "text/x-python",
   "name": "python",
   "nbconvert_exporter": "python",
   "pygments_lexer": "ipython3",
   "version": "3.6.8"
  },
  "latex_envs": {
   "LaTeX_envs_menu_present": true,
   "autoclose": false,
   "autocomplete": true,
   "bibliofile": "biblio.bib",
   "cite_by": "apalike",
   "current_citInitial": 1,
   "eqLabelWithNumbers": true,
   "eqNumInitial": 1,
   "hotkeys": {
    "equation": "Ctrl-E",
    "itemize": "Ctrl-I"
   },
   "labels_anchors": false,
   "latex_user_defs": false,
   "report_style_numbering": false,
   "user_envs_cfg": false
  },
  "toc": {
   "base_numbering": 1,
   "nav_menu": {},
   "number_sections": true,
   "sideBar": true,
   "skip_h1_title": false,
   "title_cell": "Table of Contents",
   "title_sidebar": "Contents",
   "toc_cell": false,
   "toc_position": {},
   "toc_section_display": true,
   "toc_window_display": false
  }
 },
 "nbformat": 4,
 "nbformat_minor": 2
}
