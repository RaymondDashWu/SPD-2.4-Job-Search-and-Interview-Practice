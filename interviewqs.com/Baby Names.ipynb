{
 "cells": [
  {
   "cell_type": "markdown",
   "metadata": {},
   "source": [
    "<img src=\"https://i.imgur.com/lB4ujby.png\">\n",
    "\n",
    "TAGS: Data Analysis, Python, Pandas, Data Manipulation, External Dataset\n",
    "\n",
    "You are given a data set of Baby names. Using this, write code to determine what the top boy and girl names were in 2009.\n",
    "\n",
    "Below is code to import the dataset into a dataframe, to help get you started:"
   ]
  },
  {
   "cell_type": "code",
   "execution_count": 1,
   "metadata": {
    "ExecuteTime": {
     "end_time": "2020-06-20T07:03:56.784734Z",
     "start_time": "2020-06-20T07:03:49.378692Z"
    }
   },
   "outputs": [
    {
     "data": {
      "text/html": [
       "<div>\n",
       "<style scoped>\n",
       "    .dataframe tbody tr th:only-of-type {\n",
       "        vertical-align: middle;\n",
       "    }\n",
       "\n",
       "    .dataframe tbody tr th {\n",
       "        vertical-align: top;\n",
       "    }\n",
       "\n",
       "    .dataframe thead th {\n",
       "        text-align: right;\n",
       "    }\n",
       "</style>\n",
       "<table border=\"1\" class=\"dataframe\">\n",
       "  <thead>\n",
       "    <tr style=\"text-align: right;\">\n",
       "      <th></th>\n",
       "      <th>Unnamed: 0</th>\n",
       "      <th>Id</th>\n",
       "      <th>Name</th>\n",
       "      <th>Year</th>\n",
       "      <th>Gender</th>\n",
       "      <th>State</th>\n",
       "      <th>Count</th>\n",
       "    </tr>\n",
       "  </thead>\n",
       "  <tbody>\n",
       "    <tr>\n",
       "      <td>0</td>\n",
       "      <td>11349</td>\n",
       "      <td>11350</td>\n",
       "      <td>Emma</td>\n",
       "      <td>2004</td>\n",
       "      <td>F</td>\n",
       "      <td>AK</td>\n",
       "      <td>62</td>\n",
       "    </tr>\n",
       "    <tr>\n",
       "      <td>1</td>\n",
       "      <td>11350</td>\n",
       "      <td>11351</td>\n",
       "      <td>Madison</td>\n",
       "      <td>2004</td>\n",
       "      <td>F</td>\n",
       "      <td>AK</td>\n",
       "      <td>48</td>\n",
       "    </tr>\n",
       "    <tr>\n",
       "      <td>2</td>\n",
       "      <td>11351</td>\n",
       "      <td>11352</td>\n",
       "      <td>Hannah</td>\n",
       "      <td>2004</td>\n",
       "      <td>F</td>\n",
       "      <td>AK</td>\n",
       "      <td>46</td>\n",
       "    </tr>\n",
       "    <tr>\n",
       "      <td>3</td>\n",
       "      <td>11352</td>\n",
       "      <td>11353</td>\n",
       "      <td>Grace</td>\n",
       "      <td>2004</td>\n",
       "      <td>F</td>\n",
       "      <td>AK</td>\n",
       "      <td>44</td>\n",
       "    </tr>\n",
       "    <tr>\n",
       "      <td>4</td>\n",
       "      <td>11353</td>\n",
       "      <td>11354</td>\n",
       "      <td>Emily</td>\n",
       "      <td>2004</td>\n",
       "      <td>F</td>\n",
       "      <td>AK</td>\n",
       "      <td>41</td>\n",
       "    </tr>\n",
       "  </tbody>\n",
       "</table>\n",
       "</div>"
      ],
      "text/plain": [
       "   Unnamed: 0     Id     Name  Year Gender State  Count\n",
       "0       11349  11350     Emma  2004      F    AK     62\n",
       "1       11350  11351  Madison  2004      F    AK     48\n",
       "2       11351  11352   Hannah  2004      F    AK     46\n",
       "3       11352  11353    Grace  2004      F    AK     44\n",
       "4       11353  11354    Emily  2004      F    AK     41"
      ]
     },
     "execution_count": 1,
     "metadata": {},
     "output_type": "execute_result"
    }
   ],
   "source": [
    "#importing libaries\n",
    "import numpy as np\n",
    "import pandas as pd\n",
    "\n",
    "#reading csv into a dataframe\n",
    "baby_names = pd.read_csv('https://raw.githubusercontent.com/guipsamora/pandas_exercises/master/06_Stats/US_Baby_Names/US_Baby_Names_right.csv')\n",
    "\n",
    "#viewing dataframe\n",
    "baby_names.head()"
   ]
  },
  {
   "cell_type": "code",
   "execution_count": 10,
   "metadata": {
    "ExecuteTime": {
     "end_time": "2020-06-20T07:09:23.374237Z",
     "start_time": "2020-06-20T07:09:23.273728Z"
    }
   },
   "outputs": [
    {
     "data": {
      "text/plain": [
       "Unnamed: 0    0\n",
       "Id            0\n",
       "Name          0\n",
       "Year          0\n",
       "Gender        0\n",
       "State         0\n",
       "Count         0\n",
       "dtype: int64"
      ]
     },
     "execution_count": 10,
     "metadata": {},
     "output_type": "execute_result"
    }
   ],
   "source": [
    "baby_names.isna().sum()"
   ]
  },
  {
   "cell_type": "code",
   "execution_count": 19,
   "metadata": {
    "ExecuteTime": {
     "end_time": "2020-06-20T07:17:04.743241Z",
     "start_time": "2020-06-20T07:17:04.720026Z"
    }
   },
   "outputs": [
    {
     "data": {
      "text/html": [
       "<div>\n",
       "<style scoped>\n",
       "    .dataframe tbody tr th:only-of-type {\n",
       "        vertical-align: middle;\n",
       "    }\n",
       "\n",
       "    .dataframe tbody tr th {\n",
       "        vertical-align: top;\n",
       "    }\n",
       "\n",
       "    .dataframe thead th {\n",
       "        text-align: right;\n",
       "    }\n",
       "</style>\n",
       "<table border=\"1\" class=\"dataframe\">\n",
       "  <thead>\n",
       "    <tr style=\"text-align: right;\">\n",
       "      <th></th>\n",
       "      <th>Unnamed: 0</th>\n",
       "      <th>Id</th>\n",
       "      <th>Name</th>\n",
       "      <th>Year</th>\n",
       "      <th>Gender</th>\n",
       "      <th>State</th>\n",
       "      <th>Count</th>\n",
       "    </tr>\n",
       "  </thead>\n",
       "  <tbody>\n",
       "    <tr>\n",
       "      <td>1063</td>\n",
       "      <td>12412</td>\n",
       "      <td>12413</td>\n",
       "      <td>Isabella</td>\n",
       "      <td>2009</td>\n",
       "      <td>F</td>\n",
       "      <td>AK</td>\n",
       "      <td>57</td>\n",
       "    </tr>\n",
       "    <tr>\n",
       "      <td>1064</td>\n",
       "      <td>12413</td>\n",
       "      <td>12414</td>\n",
       "      <td>Sophia</td>\n",
       "      <td>2009</td>\n",
       "      <td>F</td>\n",
       "      <td>AK</td>\n",
       "      <td>46</td>\n",
       "    </tr>\n",
       "    <tr>\n",
       "      <td>1065</td>\n",
       "      <td>12414</td>\n",
       "      <td>12415</td>\n",
       "      <td>Olivia</td>\n",
       "      <td>2009</td>\n",
       "      <td>F</td>\n",
       "      <td>AK</td>\n",
       "      <td>45</td>\n",
       "    </tr>\n",
       "    <tr>\n",
       "      <td>1066</td>\n",
       "      <td>12415</td>\n",
       "      <td>12416</td>\n",
       "      <td>Abigail</td>\n",
       "      <td>2009</td>\n",
       "      <td>F</td>\n",
       "      <td>AK</td>\n",
       "      <td>43</td>\n",
       "    </tr>\n",
       "    <tr>\n",
       "      <td>1067</td>\n",
       "      <td>12416</td>\n",
       "      <td>12417</td>\n",
       "      <td>Ava</td>\n",
       "      <td>2009</td>\n",
       "      <td>F</td>\n",
       "      <td>AK</td>\n",
       "      <td>41</td>\n",
       "    </tr>\n",
       "  </tbody>\n",
       "</table>\n",
       "</div>"
      ],
      "text/plain": [
       "      Unnamed: 0     Id      Name  Year Gender State  Count\n",
       "1063       12412  12413  Isabella  2009      F    AK     57\n",
       "1064       12413  12414    Sophia  2009      F    AK     46\n",
       "1065       12414  12415    Olivia  2009      F    AK     45\n",
       "1066       12415  12416   Abigail  2009      F    AK     43\n",
       "1067       12416  12417       Ava  2009      F    AK     41"
      ]
     },
     "execution_count": 19,
     "metadata": {},
     "output_type": "execute_result"
    }
   ],
   "source": [
    "df_2009 = baby_names[baby_names['Year'] == 2009]\n",
    "df_2009.head()"
   ]
  },
  {
   "cell_type": "code",
   "execution_count": 20,
   "metadata": {
    "ExecuteTime": {
     "end_time": "2020-06-20T07:17:14.219938Z",
     "start_time": "2020-06-20T07:17:14.179481Z"
    },
    "scrolled": true
   },
   "outputs": [
    {
     "data": {
      "text/html": [
       "<div>\n",
       "<style scoped>\n",
       "    .dataframe tbody tr th:only-of-type {\n",
       "        vertical-align: middle;\n",
       "    }\n",
       "\n",
       "    .dataframe tbody tr th {\n",
       "        vertical-align: top;\n",
       "    }\n",
       "\n",
       "    .dataframe thead th {\n",
       "        text-align: right;\n",
       "    }\n",
       "</style>\n",
       "<table border=\"1\" class=\"dataframe\">\n",
       "  <thead>\n",
       "    <tr style=\"text-align: right;\">\n",
       "      <th></th>\n",
       "      <th>Unnamed: 0</th>\n",
       "      <th>Id</th>\n",
       "      <th>Name</th>\n",
       "      <th>Year</th>\n",
       "      <th>Gender</th>\n",
       "      <th>State</th>\n",
       "      <th>Count</th>\n",
       "    </tr>\n",
       "  </thead>\n",
       "  <tbody>\n",
       "    <tr>\n",
       "      <td>121618</td>\n",
       "      <td>692795</td>\n",
       "      <td>692796</td>\n",
       "      <td>Daniel</td>\n",
       "      <td>2009</td>\n",
       "      <td>M</td>\n",
       "      <td>CA</td>\n",
       "      <td>3391</td>\n",
       "    </tr>\n",
       "    <tr>\n",
       "      <td>83117</td>\n",
       "      <td>541180</td>\n",
       "      <td>541181</td>\n",
       "      <td>Isabella</td>\n",
       "      <td>2009</td>\n",
       "      <td>F</td>\n",
       "      <td>CA</td>\n",
       "      <td>3158</td>\n",
       "    </tr>\n",
       "    <tr>\n",
       "      <td>121619</td>\n",
       "      <td>692796</td>\n",
       "      <td>692797</td>\n",
       "      <td>Anthony</td>\n",
       "      <td>2009</td>\n",
       "      <td>M</td>\n",
       "      <td>CA</td>\n",
       "      <td>3086</td>\n",
       "    </tr>\n",
       "    <tr>\n",
       "      <td>121620</td>\n",
       "      <td>692797</td>\n",
       "      <td>692798</td>\n",
       "      <td>Angel</td>\n",
       "      <td>2009</td>\n",
       "      <td>M</td>\n",
       "      <td>CA</td>\n",
       "      <td>3003</td>\n",
       "    </tr>\n",
       "    <tr>\n",
       "      <td>121621</td>\n",
       "      <td>692798</td>\n",
       "      <td>692799</td>\n",
       "      <td>Jacob</td>\n",
       "      <td>2009</td>\n",
       "      <td>M</td>\n",
       "      <td>CA</td>\n",
       "      <td>2970</td>\n",
       "    </tr>\n",
       "    <tr>\n",
       "      <td>...</td>\n",
       "      <td>...</td>\n",
       "      <td>...</td>\n",
       "      <td>...</td>\n",
       "      <td>...</td>\n",
       "      <td>...</td>\n",
       "      <td>...</td>\n",
       "      <td>...</td>\n",
       "    </tr>\n",
       "    <tr>\n",
       "      <td>867097</td>\n",
       "      <td>4919132</td>\n",
       "      <td>4919133</td>\n",
       "      <td>Denia</td>\n",
       "      <td>2009</td>\n",
       "      <td>F</td>\n",
       "      <td>TX</td>\n",
       "      <td>5</td>\n",
       "    </tr>\n",
       "    <tr>\n",
       "      <td>867098</td>\n",
       "      <td>4919133</td>\n",
       "      <td>4919134</td>\n",
       "      <td>Deserae</td>\n",
       "      <td>2009</td>\n",
       "      <td>F</td>\n",
       "      <td>TX</td>\n",
       "      <td>5</td>\n",
       "    </tr>\n",
       "    <tr>\n",
       "      <td>867099</td>\n",
       "      <td>4919134</td>\n",
       "      <td>4919135</td>\n",
       "      <td>Destynee</td>\n",
       "      <td>2009</td>\n",
       "      <td>F</td>\n",
       "      <td>TX</td>\n",
       "      <td>5</td>\n",
       "    </tr>\n",
       "    <tr>\n",
       "      <td>867100</td>\n",
       "      <td>4919135</td>\n",
       "      <td>4919136</td>\n",
       "      <td>Dolores</td>\n",
       "      <td>2009</td>\n",
       "      <td>F</td>\n",
       "      <td>TX</td>\n",
       "      <td>5</td>\n",
       "    </tr>\n",
       "    <tr>\n",
       "      <td>1015532</td>\n",
       "      <td>5646563</td>\n",
       "      <td>5646564</td>\n",
       "      <td>Xavier</td>\n",
       "      <td>2009</td>\n",
       "      <td>M</td>\n",
       "      <td>WY</td>\n",
       "      <td>5</td>\n",
       "    </tr>\n",
       "  </tbody>\n",
       "</table>\n",
       "<p>94609 rows × 7 columns</p>\n",
       "</div>"
      ],
      "text/plain": [
       "         Unnamed: 0       Id      Name  Year Gender State  Count\n",
       "121618       692795   692796    Daniel  2009      M    CA   3391\n",
       "83117        541180   541181  Isabella  2009      F    CA   3158\n",
       "121619       692796   692797   Anthony  2009      M    CA   3086\n",
       "121620       692797   692798     Angel  2009      M    CA   3003\n",
       "121621       692798   692799     Jacob  2009      M    CA   2970\n",
       "...             ...      ...       ...   ...    ...   ...    ...\n",
       "867097      4919132  4919133     Denia  2009      F    TX      5\n",
       "867098      4919133  4919134   Deserae  2009      F    TX      5\n",
       "867099      4919134  4919135  Destynee  2009      F    TX      5\n",
       "867100      4919135  4919136   Dolores  2009      F    TX      5\n",
       "1015532     5646563  5646564    Xavier  2009      M    WY      5\n",
       "\n",
       "[94609 rows x 7 columns]"
      ]
     },
     "execution_count": 20,
     "metadata": {},
     "output_type": "execute_result"
    }
   ],
   "source": [
    "# Coincidentally first two most popular are male and female\n",
    "df_2009.sort_values(by='Count', ascending = False)"
   ]
  },
  {
   "cell_type": "code",
   "execution_count": 30,
   "metadata": {
    "ExecuteTime": {
     "end_time": "2020-06-20T07:25:12.866873Z",
     "start_time": "2020-06-20T07:25:12.861622Z"
    }
   },
   "outputs": [
    {
     "data": {
      "text/plain": [
       "(array([2009]), 1)"
      ]
     },
     "execution_count": 30,
     "metadata": {},
     "output_type": "execute_result"
    }
   ],
   "source": [
    "# Sanity check to make sure that df_2009 only has the one year in it\n",
    "df_2009['Year'].unique(), len(df_2009['Year'].unique())"
   ]
  },
  {
   "cell_type": "code",
   "execution_count": 31,
   "metadata": {
    "ExecuteTime": {
     "end_time": "2020-06-20T07:25:23.249872Z",
     "start_time": "2020-06-20T07:25:23.231083Z"
    }
   },
   "outputs": [
    {
     "data": {
      "text/plain": [
       "84619"
      ]
     },
     "execution_count": 31,
     "metadata": {},
     "output_type": "execute_result"
    }
   ],
   "source": [
    "# Checking to see if there are any duplicate names that might need to be aggregated for a new total\n",
    "# Because there is (presumably because it's separated by state) names + counts will need to be aggregated\n",
    "len(df_2009['Name']) - len(df_2009['Name'].drop_duplicates())"
   ]
  },
  {
   "cell_type": "code",
   "execution_count": 25,
   "metadata": {
    "ExecuteTime": {
     "end_time": "2020-06-20T07:23:30.653926Z",
     "start_time": "2020-06-20T07:23:30.606511Z"
    }
   },
   "outputs": [
    {
     "data": {
      "text/html": [
       "<div>\n",
       "<style scoped>\n",
       "    .dataframe tbody tr th:only-of-type {\n",
       "        vertical-align: middle;\n",
       "    }\n",
       "\n",
       "    .dataframe tbody tr th {\n",
       "        vertical-align: top;\n",
       "    }\n",
       "\n",
       "    .dataframe thead th {\n",
       "        text-align: right;\n",
       "    }\n",
       "</style>\n",
       "<table border=\"1\" class=\"dataframe\">\n",
       "  <thead>\n",
       "    <tr style=\"text-align: right;\">\n",
       "      <th></th>\n",
       "      <th></th>\n",
       "      <th>Count</th>\n",
       "    </tr>\n",
       "    <tr>\n",
       "      <th>Name</th>\n",
       "      <th>Gender</th>\n",
       "      <th></th>\n",
       "    </tr>\n",
       "  </thead>\n",
       "  <tbody>\n",
       "    <tr>\n",
       "      <td>Isabella</td>\n",
       "      <td>F</td>\n",
       "      <td>22278</td>\n",
       "    </tr>\n",
       "    <tr>\n",
       "      <td>Jacob</td>\n",
       "      <td>M</td>\n",
       "      <td>21144</td>\n",
       "    </tr>\n",
       "    <tr>\n",
       "      <td>Ethan</td>\n",
       "      <td>M</td>\n",
       "      <td>19834</td>\n",
       "    </tr>\n",
       "    <tr>\n",
       "      <td>Michael</td>\n",
       "      <td>M</td>\n",
       "      <td>18909</td>\n",
       "    </tr>\n",
       "    <tr>\n",
       "      <td>Alexander</td>\n",
       "      <td>M</td>\n",
       "      <td>18215</td>\n",
       "    </tr>\n",
       "    <tr>\n",
       "      <td>William</td>\n",
       "      <td>M</td>\n",
       "      <td>17899</td>\n",
       "    </tr>\n",
       "    <tr>\n",
       "      <td>Emma</td>\n",
       "      <td>F</td>\n",
       "      <td>17881</td>\n",
       "    </tr>\n",
       "    <tr>\n",
       "      <td>Joshua</td>\n",
       "      <td>M</td>\n",
       "      <td>17622</td>\n",
       "    </tr>\n",
       "    <tr>\n",
       "      <td>Daniel</td>\n",
       "      <td>M</td>\n",
       "      <td>17521</td>\n",
       "    </tr>\n",
       "    <tr>\n",
       "      <td>Olivia</td>\n",
       "      <td>F</td>\n",
       "      <td>17420</td>\n",
       "    </tr>\n",
       "  </tbody>\n",
       "</table>\n",
       "</div>"
      ],
      "text/plain": [
       "                  Count\n",
       "Name      Gender       \n",
       "Isabella  F       22278\n",
       "Jacob     M       21144\n",
       "Ethan     M       19834\n",
       "Michael   M       18909\n",
       "Alexander M       18215\n",
       "William   M       17899\n",
       "Emma      F       17881\n",
       "Joshua    M       17622\n",
       "Daniel    M       17521\n",
       "Olivia    F       17420"
      ]
     },
     "execution_count": 25,
     "metadata": {},
     "output_type": "execute_result"
    }
   ],
   "source": [
    "df_2009.groupby(['Name', 'Gender']).agg({'Count': 'sum'}).sort_values(by = 'Count',ascending = False).head(10)"
   ]
  },
  {
   "cell_type": "markdown",
   "metadata": {},
   "source": [
    "# Conclusion: Isabella (F) and Jacob (M) are the most popular names in 2009"
   ]
  },
  {
   "cell_type": "code",
   "execution_count": null,
   "metadata": {},
   "outputs": [],
   "source": []
  }
 ],
 "metadata": {
  "kernelspec": {
   "display_name": "Python 3",
   "language": "python",
   "name": "python3"
  },
  "language_info": {
   "codemirror_mode": {
    "name": "ipython",
    "version": 3
   },
   "file_extension": ".py",
   "mimetype": "text/x-python",
   "name": "python",
   "nbconvert_exporter": "python",
   "pygments_lexer": "ipython3",
   "version": "3.6.8"
  },
  "latex_envs": {
   "LaTeX_envs_menu_present": true,
   "autoclose": false,
   "autocomplete": true,
   "bibliofile": "biblio.bib",
   "cite_by": "apalike",
   "current_citInitial": 1,
   "eqLabelWithNumbers": true,
   "eqNumInitial": 1,
   "hotkeys": {
    "equation": "Ctrl-E",
    "itemize": "Ctrl-I"
   },
   "labels_anchors": false,
   "latex_user_defs": false,
   "report_style_numbering": false,
   "user_envs_cfg": false
  },
  "toc": {
   "base_numbering": 1,
   "nav_menu": {},
   "number_sections": true,
   "sideBar": true,
   "skip_h1_title": false,
   "title_cell": "Table of Contents",
   "title_sidebar": "Contents",
   "toc_cell": false,
   "toc_position": {},
   "toc_section_display": true,
   "toc_window_display": false
  }
 },
 "nbformat": 4,
 "nbformat_minor": 2
}
