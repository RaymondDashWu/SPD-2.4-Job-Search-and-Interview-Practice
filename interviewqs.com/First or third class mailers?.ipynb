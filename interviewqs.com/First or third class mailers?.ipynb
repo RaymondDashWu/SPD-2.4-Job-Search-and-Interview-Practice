{
 "cells": [
  {
   "cell_type": "markdown",
   "metadata": {},
   "source": [
    "<img src=\"https://i.imgur.com/CnIclEJ.png\">\n",
    "\n",
    "TAGS: Statistics, Expected Value\n",
    "\n",
    "Suppose you're trying to optimize a mailing campaign where physical mail is sent to potential customers. There are two options to send advertising mail: either first class or third class. First-class costs $0.50 per parcel with a delivery rate of 99% and third-class costs $0.35 per parcel with a delivery rate of 65%. Third-class mail also receives a volume discount, if a batch of parcels is greater than 500, for first 500 are $0.35 and anything additional costs $0.32 per parcel.\n",
    "\n",
    "Questions:\n",
    "\n",
    "Which option is the best for the company?\n",
    "Assume our goal is to reach as many people with a cap of $1000, which option would be the best?\n",
    "Assume our goal is to reach 100 people, what option is best?"
   ]
  },
  {
   "cell_type": "code",
   "execution_count": null,
   "metadata": {},
   "outputs": [],
   "source": []
  }
 ],
 "metadata": {
  "kernelspec": {
   "display_name": "Python 3",
   "language": "python",
   "name": "python3"
  },
  "language_info": {
   "codemirror_mode": {
    "name": "ipython",
    "version": 3
   },
   "file_extension": ".py",
   "mimetype": "text/x-python",
   "name": "python",
   "nbconvert_exporter": "python",
   "pygments_lexer": "ipython3",
   "version": "3.6.8"
  },
  "latex_envs": {
   "LaTeX_envs_menu_present": true,
   "autoclose": false,
   "autocomplete": true,
   "bibliofile": "biblio.bib",
   "cite_by": "apalike",
   "current_citInitial": 1,
   "eqLabelWithNumbers": true,
   "eqNumInitial": 1,
   "hotkeys": {
    "equation": "Ctrl-E",
    "itemize": "Ctrl-I"
   },
   "labels_anchors": false,
   "latex_user_defs": false,
   "report_style_numbering": false,
   "user_envs_cfg": false
  },
  "toc": {
   "base_numbering": 1,
   "nav_menu": {},
   "number_sections": true,
   "sideBar": true,
   "skip_h1_title": false,
   "title_cell": "Table of Contents",
   "title_sidebar": "Contents",
   "toc_cell": false,
   "toc_position": {},
   "toc_section_display": true,
   "toc_window_display": false
  }
 },
 "nbformat": 4,
 "nbformat_minor": 2
}
