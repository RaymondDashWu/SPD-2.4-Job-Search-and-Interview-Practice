{
 "cells": [
  {
   "cell_type": "markdown",
   "metadata": {},
   "source": [
    "<img src=\"https://i.imgur.com/irUIJmF.jpg\">\n",
    "TAGS: SQL, Database Querying\n",
    "\n",
    "\n",
    "# Reddit comment activity\n",
    "\n",
    "Suppose you're working for Reddit as an analyst. Reddit is trying to optimize its server allocation per subreddit, and you've been tasked with figuring out how much comment activity happens once a post is published. \n",
    "\n",
    "Use your intuition to select a timeframe to query the data as well as how you would want to present this information to the partnering team. The solution will be a SQL query with assumptions that you would need to state if this was asked in an interview. You have the following tables:\n",
    "\n",
    "**Table:** posts\n",
    "\n",
    "| Column Name | Data Type | Description |\n",
    "|-------------|-----------|-------------|\n",
    "| id | integer\tid of the post\n",
    "| publisher_id | integer | id the user posting |\n",
    "| score | integer | score of the post |\n",
    "| time | integer | post publish time in unixtime |\n",
    "| title | string | title of the post |\n",
    "| deleted | boolean | is the post deleted? |\n",
    "| dead | boolean | is the post active? |\n",
    "| subreddit_id | integer | id of the subreddit |\n",
    "\n",
    "**Table:** comments\n",
    "\n",
    "| Column Name | Data Type | Description |\n",
    "|-------------|-----------|-------------|\n",
    "| id | integer | id of the comment |\n",
    "| author_id | integer | id of the commenter |\n",
    "| post_id | integer | id of the post the comment is nested under |\n",
    "| parent_comment | integer | id of parent comment that comment is nested under |\n",
    "| deleted | integer | is comment deleted? |\n",
    "\n",
    "Given the above, write a SQL query to highlight comment activity by subreddit. This problem is intended to test how you can think through vague/open-ended questions."
   ]
  },
  {
   "cell_type": "code",
   "execution_count": null,
   "metadata": {
    "scrolled": false
   },
   "outputs": [],
   "source": [
    "# Use your intuition to select a timeframe to query the data as well as how you would want to present this information to the partnering team. The solution will be a SQL query with assumptions that you would need to state if this was asked in an interview. You have the following tables:\n",
    "# Given the above, write a SQL query to highlight comment activity by subreddit.\n",
    "\n",
    "# PSEUDO BRAINSTORM\n",
    "# https://www.alexa.com/siteinfo/reddit.com\n",
    "# Taking a look at Alexa Reddit is in top 20 in terms of global internet traffic (as of 5/21/20) \n",
    "  # with visitors primarily being in the US & Canada (both countries account for nearly 50% of traffic) \n",
    "# Unsure of what SQL querying on a Reddit-level scale is like. Ideally I'd like to run the query every hour but \n",
    "  # worst case scenario is once daily at 10:00PM PST (off hour for US & Canada)\n",
    "# Query score, id, title, subreddit id from posts table. \n",
    "  # Notes on why the following aren't queried:\n",
    "    # posts table\n",
    "    # publisher_id doesn't matter for purposes of server allocation\n",
    "    # score because I'm guessing that's a small process that takes up very few resources. Just update the score on user\n",
    "      # frontend and then POST later if server is too overloaded.\n",
    "    # time could be useful if we're trying to gather lifecycle (initial, virality, fizzle out) trends of post. \n",
    "      # However, presumably not useful for server allocation\n",
    "    # deleted, dead doesn't matter for purposes of server allocation\n",
    "\n",
    "    # comments table\n",
    "    # author_id doesn't matter for purposes of server allocation\n",
    "    # deleted doesn't matter for purposes of server allocation\n",
    "\n",
    "# ASSUMPTIONS\n",
    "# I'm tracking all posts in all subreddits and all activity(deleted, score, comment count)\n",
    "# Trying to optimize server allocation for primary traffic source (US & Canada) based on Alexa ranking.\n",
    "# There is some way to automate  sql queries\n",
    "# parent_comment refers to the top-level comment of a chain and id refers to all comments under parent. As such,\n",
    "  # there is only 1 parent comment with a lot of children\n"
   ]
  },
  {
   "cell_type": "code",
   "execution_count": null,
   "metadata": {
    "scrolled": false
   },
   "outputs": [],
   "source": [
    "-- Can this be done in one query?? \n",
    "\n",
    "-- Runs every hour on every subreddit\n",
    "SELECT posts.id, posts.title, posts.subreddit_id \n",
    "FROM posts\n",
    "JOIN comments\n",
    "    on posts.id = comments.post_id\n",
    "\n",
    "SELECT comments.post_id, COUNT(comments.id), COUNT(comments.parent_comment) \n",
    "FROM posts\n",
    "JOIN comments\n",
    "    on posts.id = comments.post_id"
   ]
  }
 ],
 "metadata": {
  "kernelspec": {
   "display_name": "Python 3",
   "language": "python",
   "name": "python3"
  },
  "language_info": {
   "codemirror_mode": {
    "name": "ipython",
    "version": 3
   },
   "file_extension": ".py",
   "mimetype": "text/x-python",
   "name": "python",
   "nbconvert_exporter": "python",
   "pygments_lexer": "ipython3",
   "version": "3.6.8"
  },
  "latex_envs": {
   "LaTeX_envs_menu_present": true,
   "autoclose": false,
   "autocomplete": true,
   "bibliofile": "biblio.bib",
   "cite_by": "apalike",
   "current_citInitial": 1,
   "eqLabelWithNumbers": true,
   "eqNumInitial": 1,
   "hotkeys": {
    "equation": "Ctrl-E",
    "itemize": "Ctrl-I"
   },
   "labels_anchors": false,
   "latex_user_defs": false,
   "report_style_numbering": false,
   "user_envs_cfg": false
  },
  "toc": {
   "base_numbering": 1,
   "nav_menu": {},
   "number_sections": true,
   "sideBar": true,
   "skip_h1_title": false,
   "title_cell": "Table of Contents",
   "title_sidebar": "Contents",
   "toc_cell": false,
   "toc_position": {},
   "toc_section_display": true,
   "toc_window_display": false
  }
 },
 "nbformat": 4,
 "nbformat_minor": 2
}
