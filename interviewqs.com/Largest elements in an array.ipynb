{
 "cells": [
  {
   "cell_type": "markdown",
   "metadata": {},
   "source": [
    "<img src=\"https://i.imgur.com/eobRaqK.png\">\n",
    "\n",
    "Given an array with k distinct elements, write a function to return all elements that have at least two elements greater than themselves in the same array:\n",
    "\n",
    "For example:\n",
    "\n",
    "```python\n",
    "#Given the following:\n",
    "array = [2,3,9,7,6]\n",
    "#Your function should return:\n",
    "[2,3,6]\n",
    "```"
   ]
  },
  {
   "cell_type": "code",
   "execution_count": 1,
   "metadata": {
    "ExecuteTime": {
     "end_time": "2020-06-23T08:20:30.060819Z",
     "start_time": "2020-06-23T08:20:30.055256Z"
    }
   },
   "outputs": [
    {
     "name": "stdout",
     "output_type": "stream",
     "text": [
      "[2, 3, 6]\n"
     ]
    }
   ],
   "source": [
    "# PSEUDO BRAINSTORM - sort the array O(nlogn) time O(k) space where k is the len(result). Worst case space scenario n - 2 aka O(n)\n",
    "# init result arr that will be appended to and returned\n",
    "# sort the array and iterate through all except last 2 items\n",
    "# compare each numbers to see if they're less than last 2\n",
    "\n",
    "def largest_elems(array):\n",
    "    result = []\n",
    "    array.sort()\n",
    "    \n",
    "    for i in range(len(array) - 2):\n",
    "        if array[i] < array[-1] and array[i] < array[-2]:\n",
    "            result.append(array[i])\n",
    "    return result\n",
    "\n",
    "array = [2,3,9,7,6]\n",
    "print(largest_elems(array))"
   ]
  },
  {
   "cell_type": "code",
   "execution_count": null,
   "metadata": {},
   "outputs": [],
   "source": [
    "# PSEUDO BRAINSTORM 2 - find 2 max nums and iterate O(n) time\n",
    "# init first_largest, second_largest that will be compared against\n",
    "# use max(array) to find first largest than .remove() to pop it from list\n",
    "# call again to find 2nd largest\n",
    "# iterate through all items in list and print if they're smaller than 2nd largest\n",
    "\n",
    "def largest_elems(array):\n",
    "    first_largest = max(array)\n",
    "    array.remove(first_largest)\n",
    "    second_largest = max(array)\n",
    "    \n",
    "    result = []\n",
    "    \n",
    "    for num in array:\n",
    "        if num < second_largest:\n",
    "            result.append(num)\n",
    "    return result\n",
    "    \n",
    "array = [2,3,9,7,6]\n",
    "print(largest_elems(array))"
   ]
  }
 ],
 "metadata": {
  "kernelspec": {
   "display_name": "Python 3",
   "language": "python",
   "name": "python3"
  },
  "language_info": {
   "codemirror_mode": {
    "name": "ipython",
    "version": 3
   },
   "file_extension": ".py",
   "mimetype": "text/x-python",
   "name": "python",
   "nbconvert_exporter": "python",
   "pygments_lexer": "ipython3",
   "version": "3.6.8"
  },
  "latex_envs": {
   "LaTeX_envs_menu_present": true,
   "autoclose": false,
   "autocomplete": true,
   "bibliofile": "biblio.bib",
   "cite_by": "apalike",
   "current_citInitial": 1,
   "eqLabelWithNumbers": true,
   "eqNumInitial": 1,
   "hotkeys": {
    "equation": "Ctrl-E",
    "itemize": "Ctrl-I"
   },
   "labels_anchors": false,
   "latex_user_defs": false,
   "report_style_numbering": false,
   "user_envs_cfg": false
  },
  "toc": {
   "base_numbering": 1,
   "nav_menu": {},
   "number_sections": true,
   "sideBar": true,
   "skip_h1_title": false,
   "title_cell": "Table of Contents",
   "title_sidebar": "Contents",
   "toc_cell": false,
   "toc_position": {},
   "toc_section_display": true,
   "toc_window_display": false
  }
 },
 "nbformat": 4,
 "nbformat_minor": 2
}
