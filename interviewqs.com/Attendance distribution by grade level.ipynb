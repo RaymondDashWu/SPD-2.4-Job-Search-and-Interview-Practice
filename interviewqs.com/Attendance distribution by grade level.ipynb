{
 "cells": [
  {
   "cell_type": "markdown",
   "metadata": {},
   "source": [
    "<img src=\"https://i.imgur.com/OB43U08.jpg\">\n",
    "You are given the below tables, showing student attendance information as well as the grade level (grades 7-8) that each student is in. The columns are labeled in such a way that you should be able to interpret what each field is showing.\n",
    "\n",
    "__student_attendance_log__\n",
    "\n",
    "| student_id | attendance_status |\n",
    "|------------|-------------------|\n",
    "|57510       |\tPresent\n",
    "|57509       |\tPresent\n",
    "|57508       |\tTardy\n",
    "|57507       |\tAbsent\n",
    "|57506       |\tPresent\n",
    "|57505       |\tPresent\n",
    "|57504       |\tPresent\n",
    "|57503       |\tTardy\n",
    "|57501       |\tAbsent\n",
    "|57500       |\tPresent\n",
    "|57499       |\tTardy\n",
    "|57498       |\tAbsent\n",
    "|57497       | \tPresent\t\n",
    "\n",
    "__student_info__\n",
    "\n",
    "| student_id | grade_level |\n",
    "|------------|-------------|\n",
    "|57510       |7\n",
    "|57509       |7\n",
    "|57508       |8\n",
    "|57507       |8\n",
    "|57506       |7\n",
    "|57505       |7\n",
    "|57504       |8\n",
    "|57503       |8\n",
    "|57501       |8\n",
    "|57500       |8\n",
    "|57499       |7\n",
    "|57498       |7\n",
    "|57497       |8\n",
    "\n",
    "Using the tables above, write a SQL query to return the % of students by grade that are either tardy or absent in your attendance log. As shown in the tables, each student id is unique and exists across both tables.\n",
    "\n",
    "Your output should return the following columns:\n",
    "\n",
    "|grade_level |\tpercent_absent_tardy |\ttotal_num_students\n",
    "|------------|-----------------------|--------------------|\n",
    "|7           |0.XX                   |N\n",
    "|8           |0.YY                   |N\n",
    "\n"
   ]
  },
  {
   "cell_type": "code",
   "execution_count": null,
   "metadata": {},
   "outputs": [],
   "source": []
  }
 ],
 "metadata": {
  "kernelspec": {
   "display_name": "Python 3",
   "language": "python",
   "name": "python3"
  },
  "language_info": {
   "codemirror_mode": {
    "name": "ipython",
    "version": 3
   },
   "file_extension": ".py",
   "mimetype": "text/x-python",
   "name": "python",
   "nbconvert_exporter": "python",
   "pygments_lexer": "ipython3",
   "version": "3.6.8"
  },
  "latex_envs": {
   "LaTeX_envs_menu_present": true,
   "autoclose": false,
   "autocomplete": true,
   "bibliofile": "biblio.bib",
   "cite_by": "apalike",
   "current_citInitial": 1,
   "eqLabelWithNumbers": true,
   "eqNumInitial": 1,
   "hotkeys": {
    "equation": "Ctrl-E",
    "itemize": "Ctrl-I"
   },
   "labels_anchors": false,
   "latex_user_defs": false,
   "report_style_numbering": false,
   "user_envs_cfg": false
  },
  "toc": {
   "base_numbering": 1,
   "nav_menu": {},
   "number_sections": true,
   "sideBar": true,
   "skip_h1_title": false,
   "title_cell": "Table of Contents",
   "title_sidebar": "Contents",
   "toc_cell": false,
   "toc_position": {},
   "toc_section_display": true,
   "toc_window_display": false
  }
 },
 "nbformat": 4,
 "nbformat_minor": 2
}
